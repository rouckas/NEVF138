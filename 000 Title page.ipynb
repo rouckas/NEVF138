{
 "metadata": {
  "name": ""
 },
 "nbformat": 3,
 "nbformat_minor": 0,
 "worksheets": [
  {
   "cells": [
    {
     "cell_type": "markdown",
     "metadata": {},
     "source": [
      "Okruhy ot\u00e1zek z NEVF138\n",
      "=======================\n",
      "\n",
      "+ Numerick\u00e1 derivace, dop\u0159edn\u00e9 diference, zp\u011btn\u00e9 diference, centr\u00e1ln\u00ed diference\n",
      "+ Odhad chyby Taylorov\u00fdm rozvojem, asymptotick\u00e9 chov\u00e1n\u00ed chyby, Richardsonova extrapolace\n",
      "+ Numerick\u00e1 integrace, obd\u00e9ln\u00edkov\u00e9 pravidlo, lichob\u011b\u017en\u00edkov\u00e9 pravidlo, glob\u00e1ln\u00ed vs. lok\u00e1ln\u00ed chyba\n",
      "+ Integrace ODR, Explicitn\u00ed vs. Implicitn\u00ed metody.\n",
      "+ Rungovy Kuttovy metody - nap\u0159 Eulerova metoda, Heunova metoda (explicitn\u00ed), Lichob\u011b\u017en\u00edkov\u00e1 metoda (implicitn\u00ed)\n",
      "+ Leap Frog\n",
      "+ Stabilita, vy\u0161et\u0159ov\u00e1n\u00ed stability - testovac\u00ed rovnice, tuh\u00e9 soustavy\n",
      "+ Integrace PDR - diskretizace metodou kone\u010dn\u00fdch diferenc\u00ed (metoda s\u00edt\u00ed)\n",
      "+ \u0158e\u0161en\u00ed okrajov\u00fdch \u00faloh - p\u0159\u00edm\u00e9 (Gaussova eliminace, LU dekompozice, Fourierova transformace), nep\u0159\u00edm\u00e9 (Relaxa\u010dn\u00ed metody - Jacobi, Gauss Seidel...)\n",
      "+ Matice druh\u00fdch diferenc\u00ed - vlastn\u00ed \u010d\u00edsla a vlastn\u00ed vektory kvalitativn\u011b\n",
      "+ Po\u010d\u00e1te\u010dn\u011b-okrajov\u00e9 \u00falohy (evolu\u010dn\u00ed rovnice) - \n",
      "+ FTCS (forward time, cetered space), Laxova(-Friedrichsova) metoda, Crank Nicolson a pou\u017eitelnost pro parabolick\u00e9 (dif\u00faze) a hyperbolick\u00e9 (advekce) probl\u00e9my\n",
      "+ Von Neumannova anal\u00fdza stability, Courant Friedrichs Lewyho podm\u00ednka, \n",
      "+ Stru\u010dn\u011b princip metody kone\u010dn\u00fdch prvk\u016f: PDR $\\to$ slab\u00e1 formulace $\\to$ diskretizace prostoru funkc\u00ed $\\to$ \u0159e\u0161en\u00ed lin. rovnic\n",
      "+ Podm\u00edn\u011bnost matice a jej\u00ed v\u00fdznam pro numerick\u00e9 metody"
     ]
    },
    {
     "cell_type": "code",
     "collapsed": false,
     "input": [],
     "language": "python",
     "metadata": {},
     "outputs": []
    }
   ],
   "metadata": {}
  }
 ]
}