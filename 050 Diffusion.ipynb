{
 "metadata": {
  "name": "",
  "signature": "sha256:be31e716b6db4cbb9e3b2c8b7b2641cd5e4730e3aa1a1514e5f95c4fab355502"
 },
 "nbformat": 3,
 "nbformat_minor": 0,
 "worksheets": [
  {
   "cells": [
    {
     "cell_type": "markdown",
     "metadata": {},
     "source": [
      "Diffusion\n",
      "==\n",
      "\n",
      "$$\\frac{\\partial u}{\\partial t} = \\frac{\\partial}{\\partial x}D\\frac{\\partial u}{\\partial x}$$"
     ]
    },
    {
     "cell_type": "code",
     "collapsed": false,
     "input": [
      "%matplotlib inline\n",
      "from pylab import *\n",
      "from numpy import *"
     ],
     "language": "python",
     "metadata": {},
     "outputs": [],
     "prompt_number": 11
    },
    {
     "cell_type": "code",
     "collapsed": false,
     "input": [
      "#dimensions of the computational domain:\n",
      "maxx = 10.\n",
      "maxt = 1.\n",
      "\n",
      "#difffusivity\n",
      "D = 0.5"
     ],
     "language": "python",
     "metadata": {},
     "outputs": [],
     "prompt_number": 12
    },
    {
     "cell_type": "markdown",
     "metadata": {},
     "source": [
      "We discretize the simulation domain:\n",
      "$$t_n = t_0 + n\\Delta t$$\n",
      "$$x_i = x_0 + i\\Delta x$$\n",
      "and seek for the numerical approximation $U^n_i$ to the actual solution $U(t_n, x_i)$ on the grid points"
     ]
    },
    {
     "cell_type": "code",
     "collapsed": false,
     "input": [
      "#discretization parameters\n",
      "nx = 100   # number of unknown grid points in spatial direction\n",
      "SC = 1.0  # stability criterion SC = 2*D*dt/dx^2, for FTCS should be SC <= 1\n",
      "\n",
      "def diffusion_init(maxx, maxt, D, nx, SC):\n",
      "    #choose time step according to CFL condition\n",
      "    dx = maxx/(nx+1)\n",
      "    dt = SC*dx**2/(2*D)\n",
      "    nt = int(maxt/dt)+1\n",
      "    \n",
      "    #define array for storing the solution\n",
      "    U = zeros((nt, nx+2))\n",
      "    \n",
      "    x = arange(nx+2)*dx\n",
      "    t = arange(nt)*dt\n",
      "    return U, dx, dt, x, t"
     ],
     "language": "python",
     "metadata": {},
     "outputs": [],
     "prompt_number": 13
    },
    {
     "cell_type": "markdown",
     "metadata": {},
     "source": [
      "To obtain an explicit scheme for propagating the solution in time, we may replace the derivatives with forward differences in time and central differences in space (FTCS), assuming D=const.\n",
      "$$\\frac{U^{n+1}_i-U^n_i}{\\Delta t} = D\\frac{U^n_{i+1}-2U^n_i+U^n_{i-1}}{\\Delta x^2}$$\n",
      "This leads to a simple explicit formula for $U^{n+1}_i$\n",
      "$$U^{n+1}_i = U^n_i + \\frac{D\\Delta t}{\\Delta x^2}(U^n_{i+1}-2U^n_i+U^n_{i-1})$$"
     ]
    },
    {
     "cell_type": "code",
     "collapsed": false,
     "input": [
      "def diffusion_solve(U, dx, dt, nx, nt, D):\n",
      "    xint = arange(1, nx+1)\n",
      "    for it in range(0,nt-1):\n",
      "        U[it+1,xint] = U[it,xint] + D*dt/dx**2*(U[it,xint+1] - 2*U[it, xint] + U[it, xint-1])"
     ],
     "language": "python",
     "metadata": {},
     "outputs": [],
     "prompt_number": 14
    },
    {
     "cell_type": "markdown",
     "metadata": {},
     "source": [
      "Let's try to propagate a square initial condition"
     ]
    },
    {
     "cell_type": "code",
     "collapsed": false,
     "input": [
      "U, dx, dt, x, t = diffusion_init(maxx, maxt, D, nx, SC=0.9)\n",
      "U[0,:] = 0.\n",
      "U[0, (x<maxx*0.4) & (x>maxx*0.2)] = 1.\n",
      "plot(U[0,:])\n",
      "ylim([0,1.1])"
     ],
     "language": "python",
     "metadata": {},
     "outputs": [
      {
       "metadata": {},
       "output_type": "pyout",
       "prompt_number": 15,
       "text": [
        "(0, 1.1)"
       ]
      },
      {
       "metadata": {},
       "output_type": "display_data",
       "png": "[encoded data removed]",
       "text": [
        "<matplotlib.figure.Figure at 0x7f695a953710>"
       ]
      }
     ],
     "prompt_number": 15
    },
    {
     "cell_type": "code",
     "collapsed": false,
     "input": [
      "diffusion_solve(U, dx, dt, nx, len(t), D)\n",
      "pcolormesh(U, rasterized=True, vmin=-1, vmax=1)"
     ],
     "language": "python",
     "metadata": {},
     "outputs": [
      {
       "metadata": {},
       "output_type": "pyout",
       "prompt_number": 16,
       "text": [
        "<matplotlib.collections.QuadMesh at 0x7f6952f01f60>"
       ]
      },
      {
       "metadata": {},
       "output_type": "display_data",
       "png": "[encoded data removed]",
       "text": [
        "<matplotlib.figure.Figure at 0x7f695a9e65f8>"
       ]
      }
     ],
     "prompt_number": 16
    },
    {
     "cell_type": "markdown",
     "metadata": {},
     "source": [
      "The time step limit seems to be to strict, let's try increasing the time step a bit"
     ]
    },
    {
     "cell_type": "code",
     "collapsed": false,
     "input": [
      "U, dx, dt, x, t = diffusion_init(maxx, maxt, D, nx, SC*1.03)\n",
      "U[0,:] = 0.\n",
      "U[0, (x<maxx*0.4) & (x>maxx*0.2)] = 1."
     ],
     "language": "python",
     "metadata": {},
     "outputs": [],
     "prompt_number": 18
    },
    {
     "cell_type": "code",
     "collapsed": false,
     "input": [
      "diffusion_solve(U, dx, dt, nx, len(t), D)\n",
      "pcolormesh(U, rasterized=True, vmin=-1, vmax=1)"
     ],
     "language": "python",
     "metadata": {},
     "outputs": [
      {
       "metadata": {},
       "output_type": "pyout",
       "prompt_number": 19,
       "text": [
        "<matplotlib.collections.QuadMesh at 0x7f6952ef7898>"
       ]
      },
      {
       "metadata": {},
       "output_type": "display_data",
       "png": "[encoded data removed]",
       "text": [
        "<matplotlib.figure.Figure at 0x7f695a940780>"
       ]
      }
     ],
     "prompt_number": 19
    },
    {
     "cell_type": "markdown",
     "metadata": {},
     "source": [
      "Obviously, the stability condition is there for a reason :). As usual, implicit methods come to the rescue. Implicit differencing leads to\n",
      "$$\\frac{U^{n+1}_i-U^n_i}{\\Delta t} = D\\frac{U^{n+1}_{i+1}-2U^{n+1}_i+U^{n+1}_{i-1}}{\\Delta x^2}$$\n",
      "Substituting $\\alpha=\\frac{D\\Delta t}{\\Delta x^2}$ and collecting the advanced values on left side yields\n",
      "$$-\\alpha U^{n+1}_{i+1}+(2\\alpha + 1)U^{n+1}_i-\\alpha U^{n+1}_{i-1} = U^n_i$$\n",
      "Or expressing in vectorized form, where $K$ is the matrix of second differences:\n",
      "$$U^{n+1}_i-U^n_i = \\alpha K U^{n+1}$$\n",
      "$$({1}-\\alpha K) U^{n+1}=U^n$$"
     ]
    },
    {
     "cell_type": "code",
     "collapsed": false,
     "input": [
      "from scipy.sparse import dia_matrix, eye\n",
      "from scipy.sparse.linalg import factorized\n",
      "def d2matrix(nelem):\n",
      "    elements = ones((3,nelem))\n",
      "    elements[1,:] *= -2\n",
      "    return dia_matrix((elements, [-1,0,1]), shape=(nelem,nelem)).tocsc()\n",
      "\n",
      "def diffusion_solve_implicit(U, dx, dt, nx, nt, D):\n",
      "    alpha = D*dt/dx**2\n",
      "    d2x = eye(nx)-d2matrix(nx)*alpha\n",
      "    xint = arange(1, nx+1)\n",
      "    LU = factorized(d2x.tocsc())\n",
      "    for it in range(0,nt-1):\n",
      "        U[it+1,xint] = LU(U[it,xint])\n"
     ],
     "language": "python",
     "metadata": {},
     "outputs": [],
     "prompt_number": 20
    },
    {
     "cell_type": "code",
     "collapsed": false,
     "input": [
      "U, dx, dt, x, t = diffusion_init(maxx, maxt, D, nx, SC*10.)\n",
      "U[0,:] = 0.\n",
      "U[0, (x<maxx*0.4) & (x>maxx*0.2)] = 1.\n",
      "#U[0,:] = sin(x*5)"
     ],
     "language": "python",
     "metadata": {},
     "outputs": [],
     "prompt_number": 25
    },
    {
     "cell_type": "code",
     "collapsed": false,
     "input": [
      "diffusion_solve_implicit(U, dx, dt, nx, len(t), D)\n",
      "pcolormesh(U, rasterized=True, vmin=-1, vmax=1)"
     ],
     "language": "python",
     "metadata": {},
     "outputs": [
      {
       "metadata": {},
       "output_type": "pyout",
       "prompt_number": 26,
       "text": [
        "<matplotlib.collections.QuadMesh at 0x7f6952df6390>"
       ]
      },
      {
       "metadata": {},
       "output_type": "display_data",
       "png": "[encoded data removed]",
       "text": [
        "<matplotlib.figure.Figure at 0x7f6952e70978>"
       ]
      }
     ],
     "prompt_number": 26
    },
    {
     "cell_type": "markdown",
     "metadata": {},
     "source": [
      "Much longer time steps can now be used without compromising stability. In analogy to ODE methods, the previous methods correspond to explicit and implicit Euler methods. We may develop a method which is second order in time and space by proper time-centering:\n",
      "$$\\frac{U^{n+1}_i-U^n_i}{\\Delta t} = \\frac{D}{2}\\left(\n",
      "\\frac{U^{n+1}_{i+1}-2U^{n+1}_i+U^{n+1}_{i-1}}{\\Delta x^2}+\n",
      "\\frac{U^{n}_{i+1}-2U^{n}_i+U^{n}_{i-1}}{\\Delta x^2}\\right)\n",
      "$$\n",
      "Again, substituting $\\alpha=\\frac{D\\Delta t}{\\Delta x^2}$ and collecting the advanced values on left side yields\n",
      "$$-\\alpha U^{n+1}_{i+1}+(2\\alpha + 2)U^{n+1}_i-\\alpha U^{n+1}_{i-1} = -\\alpha U^{n}_{i+1}+(2\\alpha + 2)U^{n}_i-\\alpha U^{n}_{i-1}$$\n",
      "Or expressing in vectorized form, where $K$ is the matrix of second differences:\n",
      "$$U^{n+1}_i-U^n_i = \\frac{\\alpha}{2} K (U^{n+1}+U^n)$$\n",
      "$$({1}-\\frac{\\alpha}{2} K) U^{n+1}=(1+\\frac{\\alpha}{2}K) U^n$$"
     ]
    },
    {
     "cell_type": "code",
     "collapsed": false,
     "input": [
      "def diffusion_solve_CN(U, dx, dt, nx, nt, D):\n",
      "    alpha2 = D*dt/dx**2*0.5\n",
      "    M1 = eye(nx)-d2matrix(nx)*alpha2\n",
      "    M2 = eye(nx)+d2matrix(nx)*alpha2\n",
      "    LU = factorized(M1.tocsc())\n",
      "    for it in range(0,nt-1):\n",
      "        U[it+1,1:-1] = LU(M2.dot(U[it,1:-1]))"
     ],
     "language": "python",
     "metadata": {},
     "outputs": [],
     "prompt_number": 27
    },
    {
     "cell_type": "code",
     "collapsed": false,
     "input": [
      "diffusion_solve_CN(U, dx, dt, nx, len(t), D)\n",
      "pcolormesh(U, rasterized=True, vmin=-1, vmax=1.0)"
     ],
     "language": "python",
     "metadata": {},
     "outputs": [
      {
       "metadata": {},
       "output_type": "pyout",
       "prompt_number": 28,
       "text": [
        "<matplotlib.collections.QuadMesh at 0x7f6952d547b8>"
       ]
      },
      {
       "metadata": {},
       "output_type": "display_data",
       "png": "[encoded data removed]",
       "text": [
        "<matplotlib.figure.Figure at 0x7f6952e9bc18>"
       ]
      }
     ],
     "prompt_number": 28
    },
    {
     "cell_type": "markdown",
     "metadata": {},
     "source": [
      "What about other boundary conditions than 0 Dirichlet? In explicit schemes, the implementation is trivial. Otherwise, we need to put the BC to the RHS. For example nonzero Dirichlet BC conditions result:"
     ]
    },
    {
     "cell_type": "code",
     "collapsed": false,
     "input": [],
     "language": "python",
     "metadata": {},
     "outputs": [],
     "prompt_number": 28
    },
    {
     "cell_type": "code",
     "collapsed": false,
     "input": [
      "def diffusion_solve_implicit(U, dx, dt, nx, nt, D):\n",
      "    alpha = D*dt/dx**2\n",
      "    d2x = eye(nx)-d2matrix(nx)*alpha\n",
      "    LU = factorized(d2x.tocsc())\n",
      "    for it in range(0,nt-1):\n",
      "        b = U[it,1:-1]\n",
      "        b[[0,-1]] += alpha*U[it+1,[0,-1]]\n",
      "        #U[it+1,1:-1] = LU(U[it,1:-1])\n",
      "        U[it+1,1:-1] = LU(b)\n",
      "\n",
      "def diffusion_solve_CN(U, dx, dt, nx, nt, D):\n",
      "    alpha2 = D*dt/dx**2*0.5\n",
      "    M1 = eye(nx)-d2matrix(nx)*alpha2\n",
      "    M2 = eye(nx)+d2matrix(nx)*alpha2\n",
      "    LU = factorized(M1.tocsc())\n",
      "    print(U[0,0]+U[0+1,0])\n",
      "    for it in range(0,nt-1):\n",
      "        b = M2.dot(U[it,1:-1])\n",
      "        b[[0,-1]] += alpha2*(U[it,[0,-1]]+U[it+1,[0,-1]])\n",
      "        U[it+1,1:-1] = LU(b)"
     ],
     "language": "python",
     "metadata": {},
     "outputs": [],
     "prompt_number": 31
    },
    {
     "cell_type": "markdown",
     "metadata": {},
     "source": [
      "Model of heat conduction across a rod. Note the \"huge\" time step"
     ]
    },
    {
     "cell_type": "code",
     "collapsed": false,
     "input": [
      "U, dx, dt, x, t = diffusion_init(maxx, maxt*100, D, nx, SC*40)\n",
      "U[:,0] = 1."
     ],
     "language": "python",
     "metadata": {},
     "outputs": [],
     "prompt_number": 32
    },
    {
     "cell_type": "code",
     "collapsed": false,
     "input": [
      "diffusion_solve_CN(U, dx, dt, nx, len(t), D)\n",
      "pcolormesh(U, rasterized=True, vmin=-0, vmax=1)"
     ],
     "language": "python",
     "metadata": {},
     "outputs": [
      {
       "output_type": "stream",
       "stream": "stdout",
       "text": [
        "2.0\n"
       ]
      },
      {
       "metadata": {},
       "output_type": "pyout",
       "prompt_number": 33,
       "text": [
        "<matplotlib.collections.QuadMesh at 0x7f6952d3be80>"
       ]
      },
      {
       "metadata": {},
       "output_type": "display_data",
       "png": "[encoded data removed]",
       "text": [
        "<matplotlib.figure.Figure at 0x7f6952da9668>"
       ]
      }
     ],
     "prompt_number": 33
    },
    {
     "cell_type": "code",
     "collapsed": false,
     "input": [
      "diffusion_solve_implicit(U, dx, dt, nx, len(t), D)\n",
      "pcolormesh(U, rasterized=True, vmin=-0, vmax=1)"
     ],
     "language": "python",
     "metadata": {},
     "outputs": [
      {
       "metadata": {},
       "output_type": "pyout",
       "prompt_number": 34,
       "text": [
        "<matplotlib.collections.QuadMesh at 0x7f6952d173c8>"
       ]
      },
      {
       "metadata": {},
       "output_type": "display_data",
       "png": "[encoded data removed]",
       "text": [
        "<matplotlib.figure.Figure at 0x7f6952d8ec18>"
       ]
      }
     ],
     "prompt_number": 34
    },
    {
     "cell_type": "markdown",
     "metadata": {},
     "source": [
      "Neumann BC"
     ]
    },
    {
     "cell_type": "code",
     "collapsed": false,
     "input": [
      "def diffusion_solve_implicit_neumann(U, dx, dt, nx, nt, D, NBC = [0., 0.]):\n",
      "    alpha = D*dt/dx**2\n",
      "    n_unknowns = nx + 2\n",
      "    d2x = eye(n_unknowns)-d2matrix(n_unknowns)*alpha\n",
      "    d2x[0, 1] -= alpha\n",
      "    d2x[-1, -2] -= alpha\n",
      "    LU = factorized(d2x.tocsc())\n",
      "    for it in range(0,nt-1):\n",
      "        b = U[it,:]\n",
      "        b[[0,-1]] -= alpha*2*dx*array(NBC)\n",
      "        U[it+1,:] = LU(b)"
     ],
     "language": "python",
     "metadata": {},
     "outputs": [],
     "prompt_number": 35
    },
    {
     "cell_type": "code",
     "collapsed": false,
     "input": [
      "U, dx, dt, x, t = diffusion_init(maxx, maxt*50, D, nx, SC*20)\n",
      "U[0,:] = 0.\n",
      "U[0, (x<maxx*0.4) & (x>maxx*0.2)] = 1."
     ],
     "language": "python",
     "metadata": {},
     "outputs": []
    },
    {
     "cell_type": "code",
     "collapsed": false,
     "input": [
      "diffusion_solve_implicit_neumann(U, dx, dt, nx, len(t), D)\n",
      "pcolormesh(U, rasterized=True, vmin=-0, vmax=.5)"
     ],
     "language": "python",
     "metadata": {},
     "outputs": []
    },
    {
     "cell_type": "code",
     "collapsed": false,
     "input": [],
     "language": "python",
     "metadata": {},
     "outputs": []
    }
   ],
   "metadata": {}
  }
 ]
}