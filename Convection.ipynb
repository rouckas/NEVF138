{
 "metadata": {
  "name": ""
 },
 "nbformat": 3,
 "nbformat_minor": 0,
 "worksheets": [
  {
   "cells": [
    {
     "cell_type": "markdown",
     "metadata": {},
     "source": [
      "Simplest evolutionary PDE (?) -- convection\n",
      "==\n",
      "\n",
      "Transport of quantity $u$ along the flow with velocity $v$ is governed by equation\n",
      "$$\\frac{\\partial u}{\\partial t} + c\\frac{\\partial u}{\\partial x} = 0$$"
     ]
    },
    {
     "cell_type": "code",
     "collapsed": false,
     "input": [
      "%matplotlib inline\n",
      "from pylab import *\n",
      "from numpy import *"
     ],
     "language": "python",
     "metadata": {},
     "outputs": [],
     "prompt_number": 2
    },
    {
     "cell_type": "code",
     "collapsed": false,
     "input": [
      "#dimensions of the computational domain:\n",
      "maxx = 10.\n",
      "maxt = 20.\n",
      "\n",
      "#wave velocity\n",
      "v = 0.5"
     ],
     "language": "python",
     "metadata": {},
     "outputs": [],
     "prompt_number": 21
    },
    {
     "cell_type": "markdown",
     "metadata": {},
     "source": [
      "We discretize the simulation domain:\n",
      "$$t_n = t_0 + n\\Delta t$$\n",
      "$$x_i = x_0 + i\\Delta x$$\n",
      "and seek for the numerical approximation $U^n_i$ to the actual solution $U(t_n, x_i)$ on the grid points"
     ]
    },
    {
     "cell_type": "code",
     "collapsed": false,
     "input": [
      "#discretization parameters\n",
      "nx = 100   # number of unknown grid points in spatial direction\n",
      "CFL = 1.0  # Courant Friedrichs Lewy (CFL) condition v*dt/dx\n",
      "\n",
      "def wave_init(maxx, maxt, v, nx, CFL):\n",
      "    #choose time step according to CFL condition\n",
      "    dx = maxx/(nx+1)\n",
      "    dt = CFL*dx/v\n",
      "    nt = int(maxt/dt)+1\n",
      "    \n",
      "    #define array for storing the solution\n",
      "    U = zeros((nt, nx+2))\n",
      "    \n",
      "    x = arange(nx+2)*dx\n",
      "    t = arange(nt)*dt\n",
      "    return U, dx, dt, x, t"
     ],
     "language": "python",
     "metadata": {},
     "outputs": [],
     "prompt_number": 4
    },
    {
     "cell_type": "markdown",
     "metadata": {},
     "source": [
      "To obtain an explicit scheme for propagating the solution in time, we may replace the derivatives with forward differences in time and central differences in space (FTCS)\n",
      "$$\\frac{U^{n+1}_i-U^n_i}{\\Delta t} + c\\frac{U^n_{i+1}-U^n_{i-1}}{2\\Delta x}=0.$$\n",
      "This leads to a simple explicit formula for $U^{n+1}_i$\n",
      "$$U^{n+1}_i = U^n_i - \\frac{c\\Delta t}{2\\Delta x}(U^n_{i+1}-U^n_{i-1})$$"
     ]
    },
    {
     "cell_type": "code",
     "collapsed": false,
     "input": [
      "def convection_solve(U, dx, dt, nx, nt):\n",
      "    xint = arange(1, nx+1)\n",
      "    for it in range(0,nt-1):\n",
      "        U[it+1,xint] = U[it,xint] - 0.5*v*dt/dx*(U[it,xint+1] - U[it, xint-1])"
     ],
     "language": "python",
     "metadata": {},
     "outputs": [],
     "prompt_number": 14
    },
    {
     "cell_type": "markdown",
     "metadata": {},
     "source": [
      "Let's try to propagate a square initial condition"
     ]
    },
    {
     "cell_type": "code",
     "collapsed": false,
     "input": [
      "U, dx, dt, x, t = wave_init(maxx, maxt, v, nx, CFL)\n",
      "U[0,:] = 0.\n",
      "U[0, (x<maxx*0.4) & (x>maxx*0.2)] = 1.\n",
      "U[0,:] = sin(x*5)"
     ],
     "language": "python",
     "metadata": {},
     "outputs": [],
     "prompt_number": 24
    },
    {
     "cell_type": "code",
     "collapsed": false,
     "input": [
      "convection_solve(U, dx, dt, nx, len(t))\n",
      "pcolormesh(U, rasterized=True, vmin=-2, vmax=2)"
     ],
     "language": "python",
     "metadata": {},
     "outputs": [
      {
       "metadata": {},
       "output_type": "pyout",
       "prompt_number": 25,
       "text": [
        "<matplotlib.collections.QuadMesh at 0x5342850>"
       ]
      },
      {
       "metadata": {},
       "output_type": "display_data",
       "png": "[encoded data removed]",
       "text": [
        "<matplotlib.figure.Figure at 0x4cb6090>"
       ]
      }
     ],
     "prompt_number": 25
    },
    {
     "cell_type": "markdown",
     "metadata": {},
     "source": [
      "Obviously, this solver fails to reproduce the expected solution."
     ]
    }
   ],
   "metadata": {}
  }
 ]
}