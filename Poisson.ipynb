{
 "metadata": {
  "name": ""
 },
 "nbformat": 3,
 "nbformat_minor": 0,
 "worksheets": [
  {
   "cells": [
    {
     "cell_type": "heading",
     "level": 1,
     "metadata": {},
     "source": [
      "\u0158e\u0161en\u00ed Poissonovy rovnice metodou kone\u010dn\u00fdch diferenc\u00ed"
     ]
    },
    {
     "cell_type": "heading",
     "level": 2,
     "metadata": {},
     "source": [
      "1D p\u0159\u00edklady"
     ]
    },
    {
     "cell_type": "markdown",
     "metadata": {},
     "source": [
      "$$\n",
      "\\left[\\begin{smallmatrix}{}\n",
      "                            -2 & 1 &   &  &\\\\\\\n",
      "                            1 & -2& 1 &  &\\\\\\\n",
      "                              &  .& . & .&\\\\\\\n",
      "                              & &  1& -2 & 1\\\\\\\n",
      "                              & &   & 1 & -2\n",
      "                    \\end{smallmatrix}\\right]\n",
      "$$"
     ]
    },
    {
     "cell_type": "code",
     "collapsed": false,
     "input": [
      "%matplotlib inline\n",
      "from pylab import *\n",
      "from numpy import *"
     ],
     "language": "python",
     "metadata": {},
     "outputs": [],
     "prompt_number": 1
    },
    {
     "cell_type": "markdown",
     "metadata": {},
     "source": [
      "Definujeme probl\u00e9m: konstantn\u00ed n\u00e1bojov\u00e1 hustota s Dirichletovou okr. podm\u00ednkou. M\u0159\u00ed\u017e m\u00e1 100 bod\u016f s krokem 1. $\\epsilon_0=1$. Maxim\u00e1ln\u00ed chyba itera\u010dn\u00edch metod $10^{-3}$"
     ]
    },
    {
     "cell_type": "code",
     "collapsed": false,
     "input": [
      "eps0 = 1\n",
      "dx = 1\n",
      "imax = 100\n",
      "rho = ones(imax)\n",
      "b = -rho/eps0\n",
      "epsilon = 1e-3"
     ],
     "language": "python",
     "metadata": {},
     "outputs": [],
     "prompt_number": 2
    },
    {
     "cell_type": "code",
     "collapsed": false,
     "input": [
      "%%timeit\n",
      "U = zeros(imax+2)\n",
      "iter = 0\n",
      "while True:\n",
      "    res = 0.5*(U[:-2] + U[2:] - dx**2*b) - U[1:-1]\n",
      "    U[1:-1] += res\n",
      "    iter += 1\n",
      "    if sum(res**2) < epsilon**2: break"
     ],
     "language": "python",
     "metadata": {
      "slideshow": {
       "slide_type": "-"
      }
     },
     "outputs": [
      {
       "output_type": "stream",
       "stream": "stdout",
       "text": [
        "1 loops, best of 3: 459 ms per loop\n"
       ]
      }
     ],
     "prompt_number": 3
    },
    {
     "cell_type": "code",
     "collapsed": false,
     "input": [
      "%%timeit\n",
      "U = zeros(imax+2)\n",
      "iter = 0\n",
      "while True:\n",
      "    err=0\n",
      "    for i in range(1,imax+1):\n",
      "        res = 0.5*(U[i-1] + U[i+1] - dx**2*b[i-1]) - U[i]\n",
      "        U[i] += res\n",
      "        err += res**2\n",
      "    iter += 1\n",
      "    if err < epsilon**2: break"
     ],
     "language": "python",
     "metadata": {},
     "outputs": [
      {
       "output_type": "stream",
       "stream": "stdout",
       "text": [
        "1 loops, best of 3: 4.24 s per loop\n"
       ]
      }
     ],
     "prompt_number": 4
    },
    {
     "cell_type": "code",
     "collapsed": false,
     "input": [
      "%%timeit\n",
      "U = zeros(imax+2)\n",
      "omega = 2/(1+sqrt(1-cos(pi/imax)**2))\n",
      "\n",
      "iter = 0\n",
      "while True:\n",
      "    err=0\n",
      "    for i in range(1,imax+1):\n",
      "        res = 0.5*(U[i-1] + U[i+1] - dx**2*b[i-1]) - U[i]\n",
      "        U[i] += omega*res\n",
      "        err += res**2\n",
      "    iter += 1\n",
      "    if err < epsilon**2: break"
     ],
     "language": "python",
     "metadata": {},
     "outputs": [
      {
       "output_type": "stream",
       "stream": "stdout",
       "text": [
        "10 loops, best of 3: 126 ms per loop\n"
       ]
      }
     ],
     "prompt_number": 5
    },
    {
     "cell_type": "code",
     "collapsed": false,
     "input": [
      "%%timeit\n",
      "U = zeros(imax+2)\n",
      "omega = 2/(1+sqrt(1-cos(pi/imax)**2))\n",
      "iter = 0\n",
      "while True:\n",
      "    err=0\n",
      "    res = 0.5*(U[:-2:2] + U[2::2] - dx**2*b[::2]) - U[1:-1:2]\n",
      "    U[1:-1:2] += omega*res\n",
      "    err = sum(res**2)\n",
      "    \n",
      "    res = 0.5*(U[1:-2:2] + U[3::2] - dx**2*b[1::2]) - U[2:-1:2]\n",
      "    U[2:-1:2] += omega*res\n",
      "    err += sum(res**2)\n",
      "    \n",
      "    iter += 1\n",
      "    if err < epsilon**2: break"
     ],
     "language": "python",
     "metadata": {},
     "outputs": [
      {
       "output_type": "stream",
       "stream": "stdout",
       "text": [
        "100 loops, best of 3: 18.3 ms per loop\n"
       ]
      }
     ],
     "prompt_number": 6
    },
    {
     "cell_type": "markdown",
     "metadata": {},
     "source": [
      "Set up the direct sparse solver"
     ]
    },
    {
     "cell_type": "code",
     "collapsed": false,
     "input": [
      "from scipy.sparse import dia_matrix, eye\n",
      "from scipy.sparse.linalg import spsolve\n",
      "def d2matrix(nelem):\n",
      "    elements = ones((3,nelem))\n",
      "    elements[1,:] *= -2\n",
      "    return dia_matrix((elements, [-1,0,1]), shape=(nelem,nelem)).tocsc()\n",
      "d2x = d2matrix(imax)/dx**2"
     ],
     "language": "python",
     "metadata": {},
     "outputs": [],
     "prompt_number": 17
    },
    {
     "cell_type": "markdown",
     "metadata": {},
     "source": [
      "The d2matrix is a matrix of second differences in sparse format:"
     ]
    },
    {
     "cell_type": "code",
     "collapsed": false,
     "input": [
      "print(d2matrix(10).todense())"
     ],
     "language": "python",
     "metadata": {},
     "outputs": [
      {
       "output_type": "stream",
       "stream": "stdout",
       "text": [
        "[[-2.  1.  0.  0.  0.  0.  0.  0.  0.  0.]\n",
        " [ 1. -2.  1.  0.  0.  0.  0.  0.  0.  0.]\n",
        " [ 0.  1. -2.  1.  0.  0.  0.  0.  0.  0.]\n",
        " [ 0.  0.  1. -2.  1.  0.  0.  0.  0.  0.]\n",
        " [ 0.  0.  0.  1. -2.  1.  0.  0.  0.  0.]\n",
        " [ 0.  0.  0.  0.  1. -2.  1.  0.  0.  0.]\n",
        " [ 0.  0.  0.  0.  0.  1. -2.  1.  0.  0.]\n",
        " [ 0.  0.  0.  0.  0.  0.  1. -2.  1.  0.]\n",
        " [ 0.  0.  0.  0.  0.  0.  0.  1. -2.  1.]\n",
        " [ 0.  0.  0.  0.  0.  0.  0.  0.  1. -2.]]\n"
       ]
      }
     ],
     "prompt_number": 18
    },
    {
     "cell_type": "code",
     "collapsed": false,
     "input": [
      "%%timeit\n",
      "U = spsolve(d2x, b)"
     ],
     "language": "python",
     "metadata": {},
     "outputs": [
      {
       "output_type": "stream",
       "stream": "stdout",
       "text": [
        "1000 loops, best of 3: 332 \u00b5s per loop\n"
       ]
      }
     ],
     "prompt_number": 9
    },
    {
     "cell_type": "markdown",
     "metadata": {},
     "source": [
      "Try direct solver with separate factorization"
     ]
    },
    {
     "cell_type": "code",
     "collapsed": false,
     "input": [
      "from scipy.sparse.linalg import factorized\n",
      "LU = factorized(d2x)"
     ],
     "language": "python",
     "metadata": {},
     "outputs": [],
     "prompt_number": 11
    },
    {
     "cell_type": "code",
     "collapsed": false,
     "input": [
      "%%timeit\n",
      "U = LU(b)"
     ],
     "language": "python",
     "metadata": {},
     "outputs": [
      {
       "output_type": "stream",
       "stream": "stdout",
       "text": [
        "10000 loops, best of 3: 21.1 \u00b5s per loop\n"
       ]
      }
     ],
     "prompt_number": 16
    },
    {
     "cell_type": "code",
     "collapsed": false,
     "input": [
      "plot(U)"
     ],
     "language": "python",
     "metadata": {},
     "outputs": [
      {
       "metadata": {},
       "output_type": "pyout",
       "prompt_number": 15,
       "text": [
        "[<matplotlib.lines.Line2D at 0x28fe450>]"
       ]
      },
      {
       "metadata": {},
       "output_type": "display_data",
       "png": "[encoded data removed]",
       "text": [
        "<matplotlib.figure.Figure at 0x26c5510>"
       ]
      }
     ],
     "prompt_number": 15
    },
    {
     "cell_type": "code",
     "collapsed": false,
     "input": [],
     "language": "python",
     "metadata": {},
     "outputs": []
    }
   ],
   "metadata": {}
  }
 ]
}