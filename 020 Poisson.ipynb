{
 "metadata": {
  "name": ""
 },
 "nbformat": 3,
 "nbformat_minor": 0,
 "worksheets": [
  {
   "cells": [
    {
     "cell_type": "markdown",
     "metadata": {},
     "source": [
      "Solving the Poisson equation with the finite difference method\n",
      "==============================================================\n",
      "\n",
      "1D examples\n",
      "-----------\n",
      "\n",
      "Zero Dirichle BC\n",
      "$$\n",
      "\\left[\\begin{smallmatrix}{}\n",
      "           -2 & 1 &   &  &\\\\\\\n",
      "            1 & -2& 1 &  &\\\\\\\n",
      "              &  .& . & .&\\\\\\\n",
      "              & &  1& -2 & 1\\\\\\\n",
      "              & &   & 1 & -2\n",
      "    \\end{smallmatrix}\\right]\n",
      "    \\cdot\n",
      "    \\left[\\begin{smallmatrix}{}\n",
      "            U_1\\\\\\\n",
      "            U_2\\\\\\\n",
      "              \\vdots\\\\\\\n",
      "              U_{n-1}\\\\\\\n",
      "              U_n\n",
      "    \\end{smallmatrix}\\right]\n",
      "    =-\\frac{h^2}{\\epsilon_0}\n",
      "        \\left[\\begin{smallmatrix}{}\n",
      "            \\rho_1\\\\\\\n",
      "            \\rho_2\\\\\\\n",
      "              \\vdots\\\\\\\n",
      "              \\rho_{n-1}\\\\\\\n",
      "              \\rho_n\n",
      "    \\end{smallmatrix}\\right]\n",
      "$$"
     ]
    },
    {
     "cell_type": "code",
     "collapsed": false,
     "input": [
      "%matplotlib inline\n",
      "from pylab import *\n",
      "from numpy import *"
     ],
     "language": "python",
     "metadata": {},
     "outputs": [],
     "prompt_number": 1
    },
    {
     "cell_type": "markdown",
     "metadata": {},
     "source": [
      "Define the problem: Constant charge density with Dirichlet BC. Mesh with 100 points, step $h=1$, $\\epsilon_0=1$. Maximum error of iterative methods $10^{-3}$"
     ]
    },
    {
     "cell_type": "code",
     "collapsed": false,
     "input": [
      "eps0 = 1\n",
      "dx = 1\n",
      "imax = 100\n",
      "rho = ones(imax)\n",
      "b = -rho/eps0\n",
      "epsilon = 1e-3"
     ],
     "language": "python",
     "metadata": {},
     "outputs": [],
     "prompt_number": 2
    },
    {
     "cell_type": "markdown",
     "metadata": {},
     "source": [
      "Iterative solution by the Jacobi method"
     ]
    },
    {
     "cell_type": "code",
     "collapsed": false,
     "input": [
      "%%timeit\n",
      "U = zeros(imax+2)\n",
      "iter = 0\n",
      "while True:\n",
      "    res = 0.5*(U[:-2] + U[2:] - dx**2*b) - U[1:-1]\n",
      "    U[1:-1] += res\n",
      "    iter += 1\n",
      "    if sum(res**2) < epsilon**2: break"
     ],
     "language": "python",
     "metadata": {
      "slideshow": {
       "slide_type": "-"
      }
     },
     "outputs": [
      {
       "output_type": "stream",
       "stream": "stdout",
       "text": [
        "1 loops, best of 3: 442 ms per loop\n"
       ]
      }
     ],
     "prompt_number": 3
    },
    {
     "cell_type": "markdown",
     "metadata": {},
     "source": [
      "Iterative solution by the Gauss Seidel method. This is not easily vectorized in python, so we have to loop over the elements, which makes it slower."
     ]
    },
    {
     "cell_type": "code",
     "collapsed": false,
     "input": [
      "%%timeit\n",
      "U = zeros(imax+2)\n",
      "iter = 0\n",
      "while True:\n",
      "    err=0\n",
      "    for i in range(1,imax+1):\n",
      "        res = 0.5*(U[i-1] + U[i+1] - dx**2*b[i-1]) - U[i]\n",
      "        U[i] += res\n",
      "        err += res**2\n",
      "    iter += 1\n",
      "    if err < epsilon**2: break"
     ],
     "language": "python",
     "metadata": {},
     "outputs": [
      {
       "output_type": "stream",
       "stream": "stdout",
       "text": [
        "1 loops, best of 3: 3.84 s per loop\n"
       ]
      }
     ],
     "prompt_number": 4
    },
    {
     "cell_type": "markdown",
     "metadata": {},
     "source": [
      "Successive overrelaxation (SOR) with factor $\\omega$ also without vectorization"
     ]
    },
    {
     "cell_type": "code",
     "collapsed": false,
     "input": [
      "%%timeit\n",
      "U = zeros(imax+2)\n",
      "omega = 2/(1+sqrt(1-cos(pi/imax)**2))\n",
      "\n",
      "iter = 0\n",
      "while True:\n",
      "    err=0\n",
      "    for i in range(1,imax+1):\n",
      "        res = 0.5*(U[i-1] + U[i+1] - dx**2*b[i-1]) - U[i]\n",
      "        U[i] += omega*res\n",
      "        err += res**2\n",
      "    iter += 1\n",
      "    if err < epsilon**2: break"
     ],
     "language": "python",
     "metadata": {},
     "outputs": [
      {
       "output_type": "stream",
       "stream": "stdout",
       "text": [
        "10 loops, best of 3: 118 ms per loop\n"
       ]
      }
     ],
     "prompt_number": 6
    },
    {
     "cell_type": "markdown",
     "metadata": {},
     "source": [
      "We can achieve vectorization of the above methods by iterating separately over \"odd\" and \"even\" elements in a checkerboard pattern (red-black ordering)"
     ]
    },
    {
     "cell_type": "code",
     "collapsed": false,
     "input": [
      "%%timeit\n",
      "U = zeros(imax+2)\n",
      "omega = 2/(1+sqrt(1-cos(pi/imax)**2))\n",
      "iter = 0\n",
      "while True:\n",
      "    err=0\n",
      "    res = 0.5*(U[:-2:2] + U[2::2] - dx**2*b[::2]) - U[1:-1:2]\n",
      "    U[1:-1:2] += omega*res\n",
      "    err = sum(res**2)\n",
      "    \n",
      "    res = 0.5*(U[1:-2:2] + U[3::2] - dx**2*b[1::2]) - U[2:-1:2]\n",
      "    U[2:-1:2] += omega*res\n",
      "    err += sum(res**2)\n",
      "    \n",
      "    iter += 1\n",
      "    if err < epsilon**2: break"
     ],
     "language": "python",
     "metadata": {},
     "outputs": [
      {
       "output_type": "stream",
       "stream": "stdout",
       "text": [
        "10 loops, best of 3: 20 ms per loop\n"
       ]
      }
     ],
     "prompt_number": 7
    },
    {
     "cell_type": "markdown",
     "metadata": {},
     "source": [
      "In 1D, the solution can be obtained using the fast and simple Thomas algorithm. Instead of it we may use a general sparse solver, which is also easily generalized to 2D."
     ]
    },
    {
     "cell_type": "code",
     "collapsed": false,
     "input": [
      "from scipy.sparse import dia_matrix, eye\n",
      "from scipy.sparse.linalg import spsolve\n",
      "def d2matrix(nelem):\n",
      "    elements = ones((3,nelem))\n",
      "    elements[1,:] *= -2\n",
      "    return dia_matrix((elements, [-1,0,1]), shape=(nelem,nelem)).tocsc()\n",
      "d2x = d2matrix(imax)/dx**2"
     ],
     "language": "python",
     "metadata": {},
     "outputs": [],
     "prompt_number": 8
    },
    {
     "cell_type": "markdown",
     "metadata": {},
     "source": [
      "The d2matrix is a matrix of second differences in sparse format:"
     ]
    },
    {
     "cell_type": "code",
     "collapsed": false,
     "input": [
      "print(d2matrix(10).todense())"
     ],
     "language": "python",
     "metadata": {},
     "outputs": [
      {
       "output_type": "stream",
       "stream": "stdout",
       "text": [
        "[[-2.  1.  0.  0.  0.  0.  0.  0.  0.  0.]\n",
        " [ 1. -2.  1.  0.  0.  0.  0.  0.  0.  0.]\n",
        " [ 0.  1. -2.  1.  0.  0.  0.  0.  0.  0.]\n",
        " [ 0.  0.  1. -2.  1.  0.  0.  0.  0.  0.]\n",
        " [ 0.  0.  0.  1. -2.  1.  0.  0.  0.  0.]\n",
        " [ 0.  0.  0.  0.  1. -2.  1.  0.  0.  0.]\n",
        " [ 0.  0.  0.  0.  0.  1. -2.  1.  0.  0.]\n",
        " [ 0.  0.  0.  0.  0.  0.  1. -2.  1.  0.]\n",
        " [ 0.  0.  0.  0.  0.  0.  0.  1. -2.  1.]\n",
        " [ 0.  0.  0.  0.  0.  0.  0.  0.  1. -2.]]\n"
       ]
      }
     ],
     "prompt_number": 9
    },
    {
     "cell_type": "code",
     "collapsed": false,
     "input": [
      "%%timeit\n",
      "U = spsolve(d2x, b)"
     ],
     "language": "python",
     "metadata": {},
     "outputs": [
      {
       "output_type": "stream",
       "stream": "stdout",
       "text": [
        "1000 loops, best of 3: 319 \u00b5s per loop\n"
       ]
      }
     ],
     "prompt_number": 10
    },
    {
     "cell_type": "markdown",
     "metadata": {},
     "source": [
      "Try direct solver with separate factorization"
     ]
    },
    {
     "cell_type": "code",
     "collapsed": false,
     "input": [
      "from scipy.sparse.linalg import factorized\n",
      "LU = factorized(d2x)"
     ],
     "language": "python",
     "metadata": {},
     "outputs": [],
     "prompt_number": 11
    },
    {
     "cell_type": "code",
     "collapsed": false,
     "input": [
      "%%timeit\n",
      "U = LU(b)"
     ],
     "language": "python",
     "metadata": {},
     "outputs": [
      {
       "output_type": "stream",
       "stream": "stdout",
       "text": [
        "100000 loops, best of 3: 15.1 \u00b5s per loop\n"
       ]
      }
     ],
     "prompt_number": 16
    },
    {
     "cell_type": "markdown",
     "metadata": {},
     "source": [
      "We have obtained a solver, which is more than 1000 faster than our initial attempts"
     ]
    },
    {
     "cell_type": "code",
     "collapsed": false,
     "input": [
      "U = LU(b)\n",
      "plot(U)"
     ],
     "language": "python",
     "metadata": {},
     "outputs": [
      {
       "metadata": {},
       "output_type": "pyout",
       "prompt_number": 17,
       "text": [
        "[<matplotlib.lines.Line2D at 0x7f0c71a83910>]"
       ]
      },
      {
       "metadata": {},
       "output_type": "display_data",
       "png": "[encoded data removed]",
       "text": [
        "<matplotlib.figure.Figure at 0x7f0c71bbd290>"
       ]
      }
     ],
     "prompt_number": 17
    },
    {
     "cell_type": "code",
     "collapsed": false,
     "input": [],
     "language": "python",
     "metadata": {},
     "outputs": []
    }
   ],
   "metadata": {}
  }
 ]
}