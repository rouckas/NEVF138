{
 "cells": [
  {
   "cell_type": "markdown",
   "metadata": {},
   "source": [
    "Řešení Poissonovy rovnice metodou konečných diferencí\n",
    "==============================================================\n",
    "\n",
    "1D příklady\n",
    "-----------\n",
    "\n",
    "Nulové Dirichletovy okr. p.\n",
    "$$\n",
    "\\left[\\begin{smallmatrix}{}\n",
    "           -2 & 1 &   &  &\\\\\\\n",
    "            1 & -2& 1 &  &\\\\\\\n",
    "              &  .& . & .&\\\\\\\n",
    "              & &  1& -2 & 1\\\\\\\n",
    "              & &   & 1 & -2\n",
    "    \\end{smallmatrix}\\right]\n",
    "    \\cdot\n",
    "    \\left[\\begin{smallmatrix}{}\n",
    "            U_1\\\\\\\n",
    "            U_2\\\\\\\n",
    "              \\vdots\\\\\\\n",
    "              U_{n-1}\\\\\\\n",
    "              U_n\n",
    "    \\end{smallmatrix}\\right]\n",
    "    =-\\frac{h^2}{\\epsilon_0}\n",
    "        \\left[\\begin{smallmatrix}{}\n",
    "            \\rho_1\\\\\\\n",
    "            \\rho_2\\\\\\\n",
    "              \\vdots\\\\\\\n",
    "              \\rho_{n-1}\\\\\\\n",
    "              \\rho_n\n",
    "    \\end{smallmatrix}\\right]\n",
    "$$"
   ]
  },
  {
   "cell_type": "code",
   "execution_count": null,
   "metadata": {},
   "outputs": [],
   "source": [
    "%matplotlib inline\n",
    "from pylab import *\n",
    "from numpy import *"
   ]
  },
  {
   "cell_type": "markdown",
   "metadata": {},
   "source": [
    "Definice problému: Konstantní nábojová hustota s Dirichletovou OP. Síť se 100 body, krok $h=1$, $\\epsilon_0=1$. Maximální chyba iteračních metod $10^{-3}$"
   ]
  },
  {
   "cell_type": "code",
   "execution_count": null,
   "metadata": {},
   "outputs": [],
   "source": [
    "eps0 = 1\n",
    "dx = 1\n",
    "imax = 100\n",
    "M = imax\n",
    "rho = ones(imax)\n",
    "b = -rho/eps0\n",
    "epsilon = 1e-3"
   ]
  },
  {
   "cell_type": "markdown",
   "metadata": {},
   "source": [
    "Iterativní řešení Jacobiho methodou"
   ]
  },
  {
   "cell_type": "code",
   "execution_count": null,
   "metadata": {
    "slideshow": {
     "slide_type": "-"
    }
   },
   "outputs": [],
   "source": [
    "%%timeit -n2 -r3\n",
    "U = zeros(imax+2)\n",
    "iter = 0\n",
    "while True:\n",
    "    res = 0.5*(U[:-2] + U[2:] - dx**2*b) - U[1:-1]\n",
    "    U[1:-1] += res\n",
    "    iter += 1\n",
    "    if sum(res**2) < epsilon**2: break\n",
    "print(iter)"
   ]
  },
  {
   "cell_type": "markdown",
   "metadata": {},
   "source": [
    "Iterativní řešení Gauss Seidelovou methodou. Nelze v pythonu jednoduše vektorizovat - používáme cyklus, což ji zpomaluje."
   ]
  },
  {
   "cell_type": "code",
   "execution_count": null,
   "metadata": {},
   "outputs": [],
   "source": [
    "%%timeit -n2 -r3\n",
    "U = zeros(imax+2)\n",
    "iter = 0\n",
    "while True:\n",
    "    err=0\n",
    "    for i in range(1,imax+1):\n",
    "        res = 0.5*(U[i-1] + U[i+1] - dx**2*b[i-1]) - U[i]\n",
    "        U[i] += res\n",
    "        err += res**2\n",
    "    iter += 1\n",
    "    if err < epsilon**2: break\n",
    "print(iter)"
   ]
  },
  {
   "cell_type": "markdown",
   "metadata": {},
   "source": [
    "Superrelaxace (Successive overrelaxation (SOR)) s faktorem $\\omega$, bez vektorizace"
   ]
  },
  {
   "cell_type": "code",
   "execution_count": null,
   "metadata": {},
   "outputs": [],
   "source": [
    "%%timeit -n2 -r3\n",
    "U = zeros(imax+2)\n",
    "omega = 2/(1+sqrt(1-cos(pi/imax)**2))\n",
    "\n",
    "iter = 0\n",
    "while True:\n",
    "    err=0\n",
    "    for i in range(1,imax+1):\n",
    "        res = 0.5*(U[i-1] + U[i+1] - dx**2*b[i-1]) - U[i]\n",
    "        U[i] += omega*res\n",
    "        err += res**2\n",
    "    iter += 1\n",
    "    if err < epsilon**2: break\n",
    "print(iter)"
   ]
  },
  {
   "cell_type": "markdown",
   "metadata": {},
   "source": [
    "Výše uvedené metody lze vektorizovat iterace zvlášť přes liché a sudé elementy v šachovnicovitém vzoru (red-black ordering)"
   ]
  },
  {
   "cell_type": "code",
   "execution_count": null,
   "metadata": {},
   "outputs": [],
   "source": [
    "%%timeit -n2 -r3\n",
    "U = zeros(imax+2)\n",
    "omega = 2/(1+sqrt(1-cos(pi/imax)**2))\n",
    "iter = 0\n",
    "while True:\n",
    "    err=0\n",
    "    res = 0.5*(U[:-2:2] + U[2::2] - dx**2*b[::2]) - U[1:-1:2]\n",
    "    U[1:-1:2] += omega*res\n",
    "    err = sum(res**2)\n",
    "    \n",
    "    res = 0.5*(U[1:-2:2] + U[3::2] - dx**2*b[1::2]) - U[2:-1:2]\n",
    "    U[2:-1:2] += omega*res\n",
    "    err += sum(res**2)\n",
    "    \n",
    "    iter += 1\n",
    "    if err < epsilon**2: break"
   ]
  },
  {
   "cell_type": "markdown",
   "metadata": {},
   "source": [
    "### Fourier method"
   ]
  },
  {
   "cell_type": "code",
   "execution_count": null,
   "metadata": {},
   "outputs": [],
   "source": [
    "from scipy.fftpack import dst, idst"
   ]
  },
  {
   "cell_type": "code",
   "execution_count": null,
   "metadata": {},
   "outputs": [],
   "source": [
    "%%timeit\n",
    "#%%prun\n",
    "rho_k = dst(b, type=1) # type 1 assumes odd func around n=-1 and n=imax\n",
    "k = arange(1, M+1)\n",
    "lambda_k = 2*cos(k*pi/(M+1))-2\n",
    "U_k = rho_k/lambda_k\n",
    "U = idst(U_k, type=1)/(2*(M+1))"
   ]
  },
  {
   "cell_type": "code",
   "execution_count": null,
   "metadata": {},
   "outputs": [],
   "source": [
    "k = arange(1, M+1)\n",
    "lambda_k = 2*cos(k*pi/(M+1))-2"
   ]
  },
  {
   "cell_type": "code",
   "execution_count": null,
   "metadata": {},
   "outputs": [],
   "source": [
    "%%timeit\n",
    "rho_k = dst(b, type=1) # type 1 assumes odd func around n=-1 and n=imax\n",
    "U_k = rho_k/lambda_k\n",
    "U = idst(U_k, type=1)/(2*(M+1))"
   ]
  },
  {
   "cell_type": "markdown",
   "metadata": {},
   "source": [
    "In 1D, the solution can be obtained using the fast and simple Thomas algorithm. Instead of it we may use a general sparse solver, which is also easily generalized to 2D."
   ]
  },
  {
   "cell_type": "markdown",
   "metadata": {},
   "source": [
    "### Direct solver"
   ]
  },
  {
   "cell_type": "code",
   "execution_count": null,
   "metadata": {},
   "outputs": [],
   "source": [
    "from scipy.sparse import dia_matrix, eye\n",
    "from scipy.sparse.linalg import spsolve\n",
    "imax = 100\n",
    "def d2matrix(nelem):\n",
    "    elements = ones((3,nelem))\n",
    "    elements[1,:] *= -2\n",
    "    return dia_matrix((elements, [-1,0,1]), shape=(nelem,nelem)).tocsc()\n",
    "d2x = d2matrix(imax)/dx**2\n",
    "b = -ones(imax)"
   ]
  },
  {
   "cell_type": "markdown",
   "metadata": {},
   "source": [
    "The d2matrix is a matrix of second differences in sparse format:"
   ]
  },
  {
   "cell_type": "code",
   "execution_count": null,
   "metadata": {},
   "outputs": [],
   "source": [
    "print(d2matrix(10).todense())"
   ]
  },
  {
   "cell_type": "code",
   "execution_count": null,
   "metadata": {},
   "outputs": [],
   "source": [
    "%%timeit\n",
    "#%%prun \n",
    "U = spsolve(d2x, b)"
   ]
  },
  {
   "cell_type": "markdown",
   "metadata": {},
   "source": [
    "Try direct solver with separate factorization"
   ]
  },
  {
   "cell_type": "code",
   "execution_count": null,
   "metadata": {},
   "outputs": [],
   "source": [
    "from scipy.sparse.linalg import factorized\n",
    "LU = factorized(d2x)"
   ]
  },
  {
   "cell_type": "code",
   "execution_count": null,
   "metadata": {},
   "outputs": [],
   "source": [
    "%%timeit\n",
    "U = LU(b)"
   ]
  },
  {
   "cell_type": "markdown",
   "metadata": {},
   "source": [
    "We have obtained a solver, which is more than 10000 faster than our initial attempts"
   ]
  },
  {
   "cell_type": "code",
   "execution_count": null,
   "metadata": {},
   "outputs": [],
   "source": [
    "U = LU(b)\n",
    "plot(U)"
   ]
  },
  {
   "cell_type": "code",
   "execution_count": null,
   "metadata": {},
   "outputs": [],
   "source": []
  }
 ],
 "metadata": {
  "kernelspec": {
   "display_name": "Python 3",
   "language": "python",
   "name": "python3"
  },
  "language_info": {
   "codemirror_mode": {
    "name": "ipython",
    "version": 3
   },
   "file_extension": ".py",
   "mimetype": "text/x-python",
   "name": "python",
   "nbconvert_exporter": "python",
   "pygments_lexer": "ipython3",
   "version": "3.6.7"
  }
 },
 "nbformat": 4,
 "nbformat_minor": 1
}
