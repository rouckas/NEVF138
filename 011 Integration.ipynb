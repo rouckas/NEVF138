{
 "cells": [
  {
   "cell_type": "markdown",
   "metadata": {},
   "source": [
    "# Numerické integrování\n"
   ]
  },
  {
   "cell_type": "markdown",
   "metadata": {},
   "source": [
    "## Integrace\n",
    "Vypočteme integrál funkce `4/(1+x**2)` na intervalu `[0,1]` obdélníkovou metodou s dělením na 100 intervalů, $n=100$:\n",
    "$$ s\n",
    "I^{\\rm OP} = \\sum_{i=0}^{n-1} f(x_i)h\n",
    "$$\n",
    "$$\n",
    "x_i = a + ih;\\quad h=\\frac{b-a}{n}\n",
    "$$"
   ]
  },
  {
   "cell_type": "code",
   "execution_count": 1,
   "metadata": {
    "ExecuteTime": {
     "end_time": "2023-02-20T10:32:10.014936Z",
     "start_time": "2023-02-20T10:32:09.384451Z"
    },
    "execution": {
     "iopub.execute_input": "2024-06-14T15:25:13.214031Z",
     "iopub.status.busy": "2024-06-14T15:25:13.213681Z",
     "iopub.status.idle": "2024-06-14T15:25:13.492245Z",
     "shell.execute_reply": "2024-06-14T15:25:13.491940Z",
     "shell.execute_reply.started": "2024-06-14T15:25:13.213996Z"
    }
   },
   "outputs": [],
   "source": [
    "import numpy as np\n",
    "import matplotlib.pyplot as plt"
   ]
  },
  {
   "cell_type": "code",
   "execution_count": 2,
   "metadata": {
    "ExecuteTime": {
     "end_time": "2023-02-20T10:32:10.019312Z",
     "start_time": "2023-02-20T10:32:10.016736Z"
    },
    "execution": {
     "iopub.execute_input": "2024-06-14T15:25:13.492931Z",
     "iopub.status.busy": "2024-06-14T15:25:13.492773Z",
     "iopub.status.idle": "2024-06-14T15:25:13.495076Z",
     "shell.execute_reply": "2024-06-14T15:25:13.494827Z",
     "shell.execute_reply.started": "2024-06-14T15:25:13.492920Z"
    }
   },
   "outputs": [],
   "source": [
    "def quad_rectangle(f, a, b, N, pos=0.):\n",
    "    # ukol 3\n",
    "    dx = (b-a)/N\n",
    "    x = a + (pos + np.arange(N))*dx\n",
    "    return np.sum(f(x)*dx)"
   ]
  },
  {
   "cell_type": "code",
   "execution_count": 3,
   "metadata": {
    "ExecuteTime": {
     "end_time": "2023-02-20T10:32:10.137497Z",
     "start_time": "2023-02-20T10:32:10.020958Z"
    },
    "execution": {
     "iopub.execute_input": "2024-06-14T15:25:13.495442Z",
     "iopub.status.busy": "2024-06-14T15:25:13.495357Z",
     "iopub.status.idle": "2024-06-14T15:25:13.496948Z",
     "shell.execute_reply": "2024-06-14T15:25:13.496756Z",
     "shell.execute_reply.started": "2024-06-14T15:25:13.495435Z"
    }
   },
   "outputs": [],
   "source": [
    "def f(x): return 4/(1+x**2)"
   ]
  },
  {
   "cell_type": "code",
   "execution_count": 4,
   "metadata": {
    "ExecuteTime": {
     "end_time": "2023-02-20T10:32:10.331455Z",
     "start_time": "2023-02-20T10:32:10.326846Z"
    },
    "execution": {
     "iopub.execute_input": "2024-06-14T15:25:13.497341Z",
     "iopub.status.busy": "2024-06-14T15:25:13.497253Z",
     "iopub.status.idle": "2024-06-14T15:25:13.499340Z",
     "shell.execute_reply": "2024-06-14T15:25:13.499160Z",
     "shell.execute_reply.started": "2024-06-14T15:25:13.497335Z"
    }
   },
   "outputs": [],
   "source": [
    "Ns = 2**np.arange(10)\n",
    "ints = np.array([quad_rectangle(f, 0, 1, N) for N in Ns])\n",
    "ints2 = np.array([quad_rectangle(f, 0, 1, N, pos=0.5) for N in Ns])"
   ]
  },
  {
   "cell_type": "code",
   "execution_count": 5,
   "metadata": {
    "ExecuteTime": {
     "end_time": "2023-02-20T10:32:11.169789Z",
     "start_time": "2023-02-20T10:32:10.661934Z"
    },
    "execution": {
     "iopub.execute_input": "2024-06-14T15:25:13.499995Z",
     "iopub.status.busy": "2024-06-14T15:25:13.499907Z",
     "iopub.status.idle": "2024-06-14T15:25:13.705968Z",
     "shell.execute_reply": "2024-06-14T15:25:13.705594Z",
     "shell.execute_reply.started": "2024-06-14T15:25:13.499988Z"
    }
   },
   "outputs": [
    {
     "data": {
      "image/png": "[encoded data removed]",
      "text/plain": [
       "<Figure size 640x480 with 1 Axes>"
      ]
     },
     "metadata": {},
     "output_type": "display_data"
    }
   ],
   "source": [
    "plt.loglog(1./Ns, np.abs(ints-np.pi), label=\"rectangle\")\n",
    "plt.loglog(1./Ns, np.abs(ints2-np.pi), label=\"midpoint\")\n",
    "plt.grid()\n",
    "plt.legend()\n",
    "plt.xlabel(\"h\")\n",
    "plt.ylabel(\"chyba\")\n",
    "plt.show()"
   ]
  },
  {
   "cell_type": "markdown",
   "metadata": {},
   "source": [
    "Optimální volba je $\\xi=0.5$, dostáváme tak \"midpoint rule\" druhého řádu přesnosti"
   ]
  },
  {
   "cell_type": "markdown",
   "metadata": {},
   "source": [
    "### Chyba lichoběžníkového pravidla\n",
    "Využijeme sympy použít pro rozbor chyb integrace. Vypočteme aproximaci integrálu lichoběžníkovým pravidlem. Rozvoj provádíme ze středu intervalu."
   ]
  },
  {
   "cell_type": "code",
   "execution_count": 6,
   "metadata": {
    "execution": {
     "iopub.execute_input": "2024-06-14T15:25:13.706509Z",
     "iopub.status.busy": "2024-06-14T15:25:13.706417Z",
     "iopub.status.idle": "2024-06-14T15:25:13.845239Z",
     "shell.execute_reply": "2024-06-14T15:25:13.844941Z",
     "shell.execute_reply.started": "2024-06-14T15:25:13.706502Z"
    }
   },
   "outputs": [],
   "source": [
    "from sympy import *\n",
    "x, y, z, t = symbols('x y z t')\n",
    "_f = symbols('f', cls=Function)\n",
    "h, u = symbols(\"h u\")"
   ]
  },
  {
   "cell_type": "code",
   "execution_count": 7,
   "metadata": {
    "execution": {
     "iopub.execute_input": "2024-06-14T15:25:13.845752Z",
     "iopub.status.busy": "2024-06-14T15:25:13.845617Z",
     "iopub.status.idle": "2024-06-14T15:25:13.948375Z",
     "shell.execute_reply": "2024-06-14T15:25:13.948099Z",
     "shell.execute_reply.started": "2024-06-14T15:25:13.845743Z"
    }
   },
   "outputs": [
    {
     "data": {
      "text/latex": [
       "$\\displaystyle h f{\\left(y \\right)} + \\frac{h^{3} \\left. \\frac{d^{2}}{d \\xi_{1}^{2}} f{\\left(\\xi_{1} \\right)} \\right|_{\\substack{ \\xi_{1}=y }}}{8} + \\frac{h^{5} \\left. \\frac{d^{4}}{d \\xi_{1}^{4}} f{\\left(\\xi_{1} \\right)} \\right|_{\\substack{ \\xi_{1}=y }}}{384} + \\frac{h^{7} \\left. \\frac{d^{6}}{d \\xi_{1}^{6}} f{\\left(\\xi_{1} \\right)} \\right|_{\\substack{ \\xi_{1}=y }}}{46080} + O\\left(h^{9}\\right)$"
      ],
      "text/plain": [
       "h*f(y) + h**3*Subs(Derivative(f(_xi_1), (_xi_1, 2)), _xi_1, y)/8 + h**5*Subs(Derivative(f(_xi_1), (_xi_1, 4)), _xi_1, y)/384 + h**7*Subs(Derivative(f(_xi_1), (_xi_1, 6)), _xi_1, y)/46080 + O(h**9)"
      ]
     },
     "execution_count": 7,
     "metadata": {},
     "output_type": "execute_result"
    }
   ],
   "source": [
    "series = _f(t).series(t, y, 8)\n",
    "Ihat = h/2*(series.subs(t, y+h/2) + series.subs(t, y-h/2))\n",
    "Ihat.expand()"
   ]
  },
  {
   "cell_type": "markdown",
   "metadata": {},
   "source": [
    "Dále analyticky vypočteme integrál rozvoje"
   ]
  },
  {
   "cell_type": "code",
   "execution_count": 8,
   "metadata": {
    "execution": {
     "iopub.execute_input": "2024-06-14T15:25:13.948773Z",
     "iopub.status.busy": "2024-06-14T15:25:13.948684Z",
     "iopub.status.idle": "2024-06-14T15:25:13.997187Z",
     "shell.execute_reply": "2024-06-14T15:25:13.996931Z",
     "shell.execute_reply.started": "2024-06-14T15:25:13.948766Z"
    }
   },
   "outputs": [
    {
     "data": {
      "text/latex": [
       "$\\displaystyle h f{\\left(y \\right)} + \\frac{h^{3} \\left. \\frac{d^{2}}{d \\xi_{1}^{2}} f{\\left(\\xi_{1} \\right)} \\right|_{\\substack{ \\xi_{1}=y }}}{24} + \\frac{h^{5} \\left. \\frac{d^{4}}{d \\xi_{1}^{4}} f{\\left(\\xi_{1} \\right)} \\right|_{\\substack{ \\xi_{1}=y }}}{1920} + \\frac{h^{7} \\left. \\frac{d^{6}}{d \\xi_{1}^{6}} f{\\left(\\xi_{1} \\right)} \\right|_{\\substack{ \\xi_{1}=y }}}{322560} + O\\left(h^{9}\\right)$"
      ],
      "text/plain": [
       "h*f(y) + h**3*Subs(Derivative(f(_xi_1), (_xi_1, 2)), _xi_1, y)/24 + h**5*Subs(Derivative(f(_xi_1), (_xi_1, 4)), _xi_1, y)/1920 + h**7*Subs(Derivative(f(_xi_1), (_xi_1, 6)), _xi_1, y)/322560 + O(h**9)"
      ]
     },
     "execution_count": 8,
     "metadata": {},
     "output_type": "execute_result"
    }
   ],
   "source": [
    "I = integrate(series.subs(t, y+u), (u, -h/2, +h/2))\n",
    "I"
   ]
  },
  {
   "cell_type": "markdown",
   "metadata": {},
   "source": [
    "a obě hodnoty porovnáme"
   ]
  },
  {
   "cell_type": "code",
   "execution_count": 9,
   "metadata": {
    "execution": {
     "iopub.execute_input": "2024-06-14T15:25:13.997558Z",
     "iopub.status.busy": "2024-06-14T15:25:13.997482Z",
     "iopub.status.idle": "2024-06-14T15:25:14.013763Z",
     "shell.execute_reply": "2024-06-14T15:25:14.013599Z",
     "shell.execute_reply.started": "2024-06-14T15:25:13.997551Z"
    }
   },
   "outputs": [
    {
     "data": {
      "text/latex": [
       "$\\displaystyle \\frac{h^{3} \\left. \\frac{d^{2}}{d \\xi_{1}^{2}} f{\\left(\\xi_{1} \\right)} \\right|_{\\substack{ \\xi_{1}=y }}}{12} + \\frac{h^{5} \\left. \\frac{d^{4}}{d \\xi_{1}^{4}} f{\\left(\\xi_{1} \\right)} \\right|_{\\substack{ \\xi_{1}=y }}}{480} + \\frac{h^{7} \\left. \\frac{d^{6}}{d \\xi_{1}^{6}} f{\\left(\\xi_{1} \\right)} \\right|_{\\substack{ \\xi_{1}=y }}}{53760} + O\\left(h^{9}\\right)$"
      ],
      "text/plain": [
       "h**3*Subs(Derivative(f(_xi_1), (_xi_1, 2)), _xi_1, y)/12 + h**5*Subs(Derivative(f(_xi_1), (_xi_1, 4)), _xi_1, y)/480 + h**7*Subs(Derivative(f(_xi_1), (_xi_1, 6)), _xi_1, y)/53760 + O(h**9)"
      ]
     },
     "execution_count": 9,
     "metadata": {},
     "output_type": "execute_result"
    }
   ],
   "source": [
    "(Ihat - I).expand()"
   ]
  },
  {
   "cell_type": "markdown",
   "metadata": {
    "execution": {
     "iopub.execute_input": "2024-06-14T15:17:03.808881Z",
     "iopub.status.busy": "2024-06-14T15:17:03.808745Z",
     "iopub.status.idle": "2024-06-14T15:17:03.811268Z",
     "shell.execute_reply": "2024-06-14T15:17:03.810938Z",
     "shell.execute_reply.started": "2024-06-14T15:17:03.808873Z"
    }
   },
   "source": [
    "a vidíme, že lokální chyba je $o(h^3)$"
   ]
  },
  {
   "cell_type": "markdown",
   "metadata": {},
   "source": [
    "### Richardsonova extrapolace\n",
    "Řekněme, že hledaný integrál $I$ aproximujeme numericky vypočítanou hodnotou $\\hat I(h)$ s chybou $E(h)$:\n",
    "$$\\hat I(h)  = I + E(h).$$\n",
    "\n",
    "Pokud lze chybu metody $E$ vyjádřit jako polynom v závislosti na velikosti integračního kroku\n",
    "$$\n",
    "E = A_1h^{p_1} + A_2h^{p_2} + A_3h^{p_3} + \\ldots,\n",
    "$$\n",
    "můžeme eliminovat dominantní člen rozvoje\n",
    "$$\n",
    "\\hat I^{(1)} = \\frac{2^{p_1} \\hat I(h) - \\hat I(2h)}{2^{p_1} - 1} = I + A'_2h^{p_2} + A'_3h^{p_3} + \\ldots\n",
    "$$\n"
   ]
  },
  {
   "cell_type": "markdown",
   "metadata": {},
   "source": [
    "Vypočteme integrál z předchozí úlohy lichoběžníkovou metodou s dělením na 10 a 5 intervalů. Využijeme tyto aproximace k redukci chyby Richardsonovou metodou."
   ]
  },
  {
   "cell_type": "code",
   "execution_count": 10,
   "metadata": {
    "ExecuteTime": {
     "end_time": "2023-02-20T10:32:35.211435Z",
     "start_time": "2023-02-20T10:32:35.208655Z"
    },
    "execution": {
     "iopub.execute_input": "2024-06-14T15:25:14.014120Z",
     "iopub.status.busy": "2024-06-14T15:25:14.014041Z",
     "iopub.status.idle": "2024-06-14T15:25:14.015789Z",
     "shell.execute_reply": "2024-06-14T15:25:14.015619Z",
     "shell.execute_reply.started": "2024-06-14T15:25:14.014114Z"
    }
   },
   "outputs": [],
   "source": [
    "def quad_trapezoid(f, a, b, N):\n",
    "    dx = (b-a)/N\n",
    "    x = a + np.arange(1, N)*dx\n",
    "    return 0.5*dx*(f(a) + f(b)) + np.sum(f(x)*dx)"
   ]
  },
  {
   "cell_type": "code",
   "execution_count": 11,
   "metadata": {
    "ExecuteTime": {
     "end_time": "2023-02-20T10:32:36.601385Z",
     "start_time": "2023-02-20T10:32:36.598646Z"
    },
    "execution": {
     "iopub.execute_input": "2024-06-14T15:25:14.016127Z",
     "iopub.status.busy": "2024-06-14T15:25:14.016052Z",
     "iopub.status.idle": "2024-06-14T15:25:14.017395Z",
     "shell.execute_reply": "2024-06-14T15:25:14.017226Z",
     "shell.execute_reply.started": "2024-06-14T15:25:14.016121Z"
    }
   },
   "outputs": [],
   "source": [
    "N = 10"
   ]
  },
  {
   "cell_type": "code",
   "execution_count": 12,
   "metadata": {
    "ExecuteTime": {
     "end_time": "2023-02-20T10:32:36.888534Z",
     "start_time": "2023-02-20T10:32:36.885649Z"
    },
    "execution": {
     "iopub.execute_input": "2024-06-14T15:25:14.017721Z",
     "iopub.status.busy": "2024-06-14T15:25:14.017647Z",
     "iopub.status.idle": "2024-06-14T15:25:14.019562Z",
     "shell.execute_reply": "2024-06-14T15:25:14.019389Z",
     "shell.execute_reply.started": "2024-06-14T15:25:14.017714Z"
    }
   },
   "outputs": [
    {
     "name": "stdout",
     "output_type": "stream",
     "text": [
      "-0.006666539778803049\n",
      "-0.0016666646826335452\n"
     ]
    }
   ],
   "source": [
    "print(quad_trapezoid(f, 0, 1, N//2)-np.pi)\n",
    "print(quad_trapezoid(f, 0, 1, N)-np.pi)\n"
   ]
  },
  {
   "cell_type": "code",
   "execution_count": 13,
   "metadata": {
    "ExecuteTime": {
     "end_time": "2023-02-20T10:32:37.224187Z",
     "start_time": "2023-02-20T10:32:37.221303Z"
    },
    "execution": {
     "iopub.execute_input": "2024-06-14T15:25:14.019915Z",
     "iopub.status.busy": "2024-06-14T15:25:14.019833Z",
     "iopub.status.idle": "2024-06-14T15:25:14.021540Z",
     "shell.execute_reply": "2024-06-14T15:25:14.021369Z",
     "shell.execute_reply.started": "2024-06-14T15:25:14.019909Z"
    }
   },
   "outputs": [],
   "source": [
    "def richardson(f, N0, p):\n",
    "    # ukol 5\n",
    "    return (2**p * f(N0) - f(N0//2))/(2**p - 1)"
   ]
  },
  {
   "cell_type": "code",
   "execution_count": 14,
   "metadata": {
    "ExecuteTime": {
     "end_time": "2023-02-20T10:32:37.883125Z",
     "start_time": "2023-02-20T10:32:37.878111Z"
    },
    "execution": {
     "iopub.execute_input": "2024-06-14T15:25:14.022574Z",
     "iopub.status.busy": "2024-06-14T15:25:14.022494Z",
     "iopub.status.idle": "2024-06-14T15:25:14.024476Z",
     "shell.execute_reply": "2024-06-14T15:25:14.024313Z",
     "shell.execute_reply.started": "2024-06-14T15:25:14.022568Z"
    }
   },
   "outputs": [
    {
     "data": {
      "text/plain": [
       "-3.9650577488004046e-08"
      ]
     },
     "execution_count": 14,
     "metadata": {},
     "output_type": "execute_result"
    }
   ],
   "source": [
    "def q(N):\n",
    "    return quad_trapezoid(f, 0, 1, N)\n",
    "richardson(q, 10, 2) - np.pi"
   ]
  },
  {
   "cell_type": "code",
   "execution_count": 15,
   "metadata": {
    "ExecuteTime": {
     "end_time": "2023-02-20T10:32:38.235042Z",
     "start_time": "2023-02-20T10:32:38.230444Z"
    },
    "execution": {
     "iopub.execute_input": "2024-06-14T15:25:14.024852Z",
     "iopub.status.busy": "2024-06-14T15:25:14.024774Z",
     "iopub.status.idle": "2024-06-14T15:25:14.026643Z",
     "shell.execute_reply": "2024-06-14T15:25:14.026489Z",
     "shell.execute_reply.started": "2024-06-14T15:25:14.024846Z"
    }
   },
   "outputs": [
    {
     "data": {
      "text/plain": [
       "-3.9650577488004046e-08"
      ]
     },
     "execution_count": 15,
     "metadata": {},
     "output_type": "execute_result"
    }
   ],
   "source": [
    "# alternativne muzeme definovat tzv. lambda funkci inline\n",
    "richardson(lambda N:quad_trapezoid(f, 0, 1, N), 10, 2) - np.pi"
   ]
  },
  {
   "cell_type": "markdown",
   "metadata": {},
   "source": [
    "### Rombergova integrace\n",
    "Opakovanou aplikací Richardsonovy extrapolace lze postupně eliminovat další členy chybového rozvoje. Pokud použijeme lichoběžníkovou metodu k výpočtu integrálu s dělením na $2^N$ intervalů, můžeme extrapolovat $N$-krát, čímž dostaneme metodou řádu $2(N+1)$."
   ]
  },
  {
   "cell_type": "code",
   "execution_count": 16,
   "metadata": {
    "ExecuteTime": {
     "end_time": "2023-02-20T10:32:41.418439Z",
     "start_time": "2023-02-20T10:32:41.414050Z"
    },
    "execution": {
     "iopub.execute_input": "2024-06-14T15:25:14.026973Z",
     "iopub.status.busy": "2024-06-14T15:25:14.026895Z",
     "iopub.status.idle": "2024-06-14T15:25:14.029297Z",
     "shell.execute_reply": "2024-06-14T15:25:14.029125Z",
     "shell.execute_reply.started": "2024-06-14T15:25:14.026966Z"
    }
   },
   "outputs": [],
   "source": [
    "def romberg(f, a, b, N, debug=False):\n",
    "    dx = (b-a)\n",
    "    a = [0.5*dx*(f(a) + f(b))]\n",
    "    for i in range(1, N):\n",
    "        dx *= 0.5\n",
    "        x = (np.arange(0, 2**(i), 2) + 1)*dx\n",
    "        a.append(a[-1]*0.5 + np.sum(f(x))*dx)\n",
    "\n",
    "    b = [np.array(a)]\n",
    "    for j in range(1, N):\n",
    "        b.append((2**(2*j) * b[-1][1:] - b[-1][:-1])/(2**(2*j) - 1))\n",
    "    \n",
    "    if debug:\n",
    "        for i, l in enumerate(b):\n",
    "            print(\"%d. order estimates:\"%(2*(i+1)), l-np.pi)\n",
    "    return b[-1][0]"
   ]
  },
  {
   "cell_type": "code",
   "execution_count": 17,
   "metadata": {
    "ExecuteTime": {
     "end_time": "2023-02-20T10:32:41.642709Z",
     "start_time": "2023-02-20T10:32:41.637373Z"
    },
    "execution": {
     "iopub.execute_input": "2024-06-14T15:25:14.029637Z",
     "iopub.status.busy": "2024-06-14T15:25:14.029560Z",
     "iopub.status.idle": "2024-06-14T15:25:14.031993Z",
     "shell.execute_reply": "2024-06-14T15:25:14.031827Z",
     "shell.execute_reply.started": "2024-06-14T15:25:14.029631Z"
    }
   },
   "outputs": [
    {
     "name": "stdout",
     "output_type": "stream",
     "text": [
      "2. order estimates: [-0.14159265 -0.04159265 -0.01041618 -0.00260416 -0.00065104]\n",
      "4. order estimates: [-8.25932026e-03 -2.40261388e-05 -1.51131086e-07 -2.36497089e-09]\n",
      "6. order estimates: [5.24993469e-04 1.44053610e-06 7.55276997e-09]\n",
      "8. order estimates: [-6.86982792e-06 -1.51929971e-08]\n",
      "10. order estimates: [1.1687924e-08]\n"
     ]
    },
    {
     "data": {
      "text/plain": [
       "3.141592665277717"
      ]
     },
     "execution_count": 17,
     "metadata": {},
     "output_type": "execute_result"
    }
   ],
   "source": [
    "romberg(f, 0, 1, 5, debug=True)"
   ]
  },
  {
   "cell_type": "code",
   "execution_count": 18,
   "metadata": {
    "ExecuteTime": {
     "end_time": "2023-02-20T10:32:42.692889Z",
     "start_time": "2023-02-20T10:32:41.846490Z"
    },
    "execution": {
     "iopub.execute_input": "2024-06-14T15:25:14.032328Z",
     "iopub.status.busy": "2024-06-14T15:25:14.032252Z",
     "iopub.status.idle": "2024-06-14T15:25:14.257090Z",
     "shell.execute_reply": "2024-06-14T15:25:14.256786Z",
     "shell.execute_reply.started": "2024-06-14T15:25:14.032322Z"
    }
   },
   "outputs": [],
   "source": [
    "N = np.arange(1, 25)\n",
    "I = np.array([romberg(f, 0, 1, n) for n in N])\n",
    "I_trapezoid = np.array([quad_trapezoid(f, 0, 1, 2**(n-1)) for n in N])\n",
    "h = 1/2**(N)"
   ]
  },
  {
   "cell_type": "code",
   "execution_count": 19,
   "metadata": {
    "ExecuteTime": {
     "end_time": "2023-02-20T10:32:42.986211Z",
     "start_time": "2023-02-20T10:32:42.694568Z"
    },
    "execution": {
     "iopub.execute_input": "2024-06-14T15:25:14.257536Z",
     "iopub.status.busy": "2024-06-14T15:25:14.257445Z",
     "iopub.status.idle": "2024-06-14T15:25:14.346941Z",
     "shell.execute_reply": "2024-06-14T15:25:14.346552Z",
     "shell.execute_reply.started": "2024-06-14T15:25:14.257528Z"
    }
   },
   "outputs": [
    {
     "data": {
      "image/png": "[encoded data removed]",
      "text/plain": [
       "<Figure size 640x480 with 1 Axes>"
      ]
     },
     "metadata": {},
     "output_type": "display_data"
    }
   ],
   "source": [
    "plt.semilogy(N, np.abs(I-np.pi), label=\"Romberg\")\n",
    "plt.semilogy(N, np.abs(I_trapezoid-np.pi), label=\"trapezoid\")\n",
    "plt.legend()\n",
    "plt.ylabel(\"error\")\n",
    "plt.xlabel(\"romberg N\")\n",
    "plt.grid()\n",
    "plt.show()"
   ]
  },
  {
   "cell_type": "code",
   "execution_count": 20,
   "metadata": {
    "ExecuteTime": {
     "end_time": "2023-02-20T10:32:43.144562Z",
     "start_time": "2023-02-20T10:32:43.140985Z"
    },
    "execution": {
     "iopub.execute_input": "2024-06-14T15:25:14.347386Z",
     "iopub.status.busy": "2024-06-14T15:25:14.347301Z",
     "iopub.status.idle": "2024-06-14T15:25:14.349908Z",
     "shell.execute_reply": "2024-06-14T15:25:14.349654Z",
     "shell.execute_reply.started": "2024-06-14T15:25:14.347379Z"
    }
   },
   "outputs": [
    {
     "data": {
      "text/plain": [
       "3.1415926535897936"
      ]
     },
     "execution_count": 20,
     "metadata": {},
     "output_type": "execute_result"
    }
   ],
   "source": [
    "romberg(f, 0, 1, 9)"
   ]
  },
  {
   "cell_type": "code",
   "execution_count": 21,
   "metadata": {
    "ExecuteTime": {
     "end_time": "2022-02-28T12:21:28.717477Z",
     "start_time": "2022-02-28T12:21:28.713758Z"
    },
    "execution": {
     "iopub.execute_input": "2024-06-14T15:25:14.350224Z",
     "iopub.status.busy": "2024-06-14T15:25:14.350148Z",
     "iopub.status.idle": "2024-06-14T15:25:14.352041Z",
     "shell.execute_reply": "2024-06-14T15:25:14.351883Z",
     "shell.execute_reply.started": "2024-06-14T15:25:14.350217Z"
    }
   },
   "outputs": [
    {
     "data": {
      "text/plain": [
       "3.141592653589793"
      ]
     },
     "execution_count": 21,
     "metadata": {},
     "output_type": "execute_result"
    }
   ],
   "source": [
    "np.pi"
   ]
  },
  {
   "cell_type": "code",
   "execution_count": 22,
   "metadata": {
    "ExecuteTime": {
     "end_time": "2022-02-28T12:21:36.223021Z",
     "start_time": "2022-02-28T12:21:35.705558Z"
    },
    "execution": {
     "iopub.execute_input": "2024-06-14T15:25:14.352375Z",
     "iopub.status.busy": "2024-06-14T15:25:14.352298Z",
     "iopub.status.idle": "2024-06-14T15:25:14.552014Z",
     "shell.execute_reply": "2024-06-14T15:25:14.551818Z",
     "shell.execute_reply.started": "2024-06-14T15:25:14.352369Z"
    }
   },
   "outputs": [
    {
     "data": {
      "image/png": "[encoded data removed]",
      "text/plain": [
       "<Figure size 640x480 with 1 Axes>"
      ]
     },
     "metadata": {},
     "output_type": "display_data"
    }
   ],
   "source": [
    "plt.plot(h, np.abs(I-np.pi), label=\"Romberg\")\n",
    "plt.plot(h, np.abs(I_trapezoid-np.pi), label=\"trapezoid\")\n",
    "plt.legend()\n",
    "plt.ylabel(\"error\")\n",
    "plt.xlabel(\"h\")\n",
    "plt.grid()\n",
    "ax = plt.gca()\n",
    "ax.set_xscale(\"log\")\n",
    "ax.set_yscale(\"log\")\n",
    "plt.show()"
   ]
  },
  {
   "cell_type": "code",
   "execution_count": 23,
   "metadata": {
    "ExecuteTime": {
     "end_time": "2022-02-28T12:22:27.268945Z",
     "start_time": "2022-02-28T12:22:27.266842Z"
    },
    "execution": {
     "iopub.execute_input": "2024-06-14T15:25:14.552472Z",
     "iopub.status.busy": "2024-06-14T15:25:14.552353Z",
     "iopub.status.idle": "2024-06-14T15:25:14.554103Z",
     "shell.execute_reply": "2024-06-14T15:25:14.553932Z",
     "shell.execute_reply.started": "2024-06-14T15:25:14.552464Z"
    }
   },
   "outputs": [],
   "source": [
    "import numpy as np\n",
    "from math import fsum"
   ]
  },
  {
   "cell_type": "code",
   "execution_count": 24,
   "metadata": {
    "ExecuteTime": {
     "end_time": "2022-02-28T12:22:27.931162Z",
     "start_time": "2022-02-28T12:22:27.928882Z"
    },
    "execution": {
     "iopub.execute_input": "2024-06-14T15:25:14.554449Z",
     "iopub.status.busy": "2024-06-14T15:25:14.554369Z",
     "iopub.status.idle": "2024-06-14T15:25:14.556553Z",
     "shell.execute_reply": "2024-06-14T15:25:14.556382Z",
     "shell.execute_reply.started": "2024-06-14T15:25:14.554443Z"
    }
   },
   "outputs": [],
   "source": [
    "# naivni sumace\n",
    "def simplesum(input):\n",
    "    summ  = 0\n",
    "    for num in input:\n",
    "        summ += num\n",
    "    return summ"
   ]
  },
  {
   "cell_type": "code",
   "execution_count": 25,
   "metadata": {
    "ExecuteTime": {
     "end_time": "2022-02-28T12:22:30.714101Z",
     "start_time": "2022-02-28T12:22:30.710872Z"
    },
    "execution": {
     "iopub.execute_input": "2024-06-14T15:25:14.556884Z",
     "iopub.status.busy": "2024-06-14T15:25:14.556809Z",
     "iopub.status.idle": "2024-06-14T15:25:14.558501Z",
     "shell.execute_reply": "2024-06-14T15:25:14.558332Z",
     "shell.execute_reply.started": "2024-06-14T15:25:14.556878Z"
    }
   },
   "outputs": [],
   "source": [
    "# kahanova sumace\n",
    "def kahansum(input):\n",
    "    summ = c = 0\n",
    "    for num in input:\n",
    "        y = num - c         # c je chyba z minule iterace\n",
    "        t = summ + y        # nova aproximace sumy\n",
    "        c = (t - summ) - y  # vypocet chyby\n",
    "        summ = t\n",
    "    return summ"
   ]
  },
  {
   "cell_type": "markdown",
   "metadata": {},
   "source": [
    "### Example 1"
   ]
  },
  {
   "cell_type": "code",
   "execution_count": 26,
   "metadata": {
    "ExecuteTime": {
     "end_time": "2022-02-28T12:22:36.976388Z",
     "start_time": "2022-02-28T12:22:36.949476Z"
    },
    "execution": {
     "iopub.execute_input": "2024-06-14T15:25:14.558831Z",
     "iopub.status.busy": "2024-06-14T15:25:14.558755Z",
     "iopub.status.idle": "2024-06-14T15:25:14.579384Z",
     "shell.execute_reply": "2024-06-14T15:25:14.579190Z",
     "shell.execute_reply.started": "2024-06-14T15:25:14.558825Z"
    }
   },
   "outputs": [
    {
     "data": {
      "text/plain": [
       "array([1.e-07, 1.e-07, 1.e-07, ..., 1.e-07, 1.e-07, 1.e-07])"
      ]
     },
     "execution_count": 26,
     "metadata": {},
     "output_type": "execute_result"
    }
   ],
   "source": [
    "data = np.ones(10**7)*1e-7\n",
    "data"
   ]
  },
  {
   "cell_type": "code",
   "execution_count": 27,
   "metadata": {
    "ExecuteTime": {
     "end_time": "2022-02-28T12:22:41.702756Z",
     "start_time": "2022-02-28T12:22:39.733023Z"
    },
    "execution": {
     "iopub.execute_input": "2024-06-14T15:25:14.579787Z",
     "iopub.status.busy": "2024-06-14T15:25:14.579695Z",
     "iopub.status.idle": "2024-06-14T15:25:14.996626Z",
     "shell.execute_reply": "2024-06-14T15:25:14.996361Z",
     "shell.execute_reply.started": "2024-06-14T15:25:14.579780Z"
    }
   },
   "outputs": [
    {
     "data": {
      "text/plain": [
       "-2.4983004554002264e-10"
      ]
     },
     "execution_count": 27,
     "metadata": {},
     "output_type": "execute_result"
    }
   ],
   "source": [
    "simplesum(data)-1"
   ]
  },
  {
   "cell_type": "code",
   "execution_count": 28,
   "metadata": {
    "ExecuteTime": {
     "end_time": "2022-02-28T12:22:48.690550Z",
     "start_time": "2022-02-28T12:22:44.392879Z"
    },
    "execution": {
     "iopub.execute_input": "2024-06-14T15:25:14.997262Z",
     "iopub.status.busy": "2024-06-14T15:25:14.996987Z",
     "iopub.status.idle": "2024-06-14T15:25:16.215354Z",
     "shell.execute_reply": "2024-06-14T15:25:16.215095Z",
     "shell.execute_reply.started": "2024-06-14T15:25:14.997254Z"
    }
   },
   "outputs": [
    {
     "data": {
      "text/plain": [
       "0.0"
      ]
     },
     "execution_count": 28,
     "metadata": {},
     "output_type": "execute_result"
    }
   ],
   "source": [
    "kahansum(data)-1"
   ]
  },
  {
   "cell_type": "code",
   "execution_count": 29,
   "metadata": {
    "ExecuteTime": {
     "end_time": "2022-02-28T12:22:48.702302Z",
     "start_time": "2022-02-28T12:22:48.692222Z"
    },
    "execution": {
     "iopub.execute_input": "2024-06-14T15:25:16.215794Z",
     "iopub.status.busy": "2024-06-14T15:25:16.215707Z",
     "iopub.status.idle": "2024-06-14T15:25:16.221713Z",
     "shell.execute_reply": "2024-06-14T15:25:16.221547Z",
     "shell.execute_reply.started": "2024-06-14T15:25:16.215787Z"
    }
   },
   "outputs": [
    {
     "data": {
      "text/plain": [
       "1.7319479184152442e-14"
      ]
     },
     "execution_count": 29,
     "metadata": {},
     "output_type": "execute_result"
    }
   ],
   "source": [
    "np.sum(data)-1"
   ]
  },
  {
   "cell_type": "code",
   "execution_count": 30,
   "metadata": {
    "ExecuteTime": {
     "end_time": "2022-02-28T12:22:51.449287Z",
     "start_time": "2022-02-28T12:22:49.907512Z"
    },
    "execution": {
     "iopub.execute_input": "2024-06-14T15:25:16.222087Z",
     "iopub.status.busy": "2024-06-14T15:25:16.221996Z",
     "iopub.status.idle": "2024-06-14T15:25:16.585687Z",
     "shell.execute_reply": "2024-06-14T15:25:16.585510Z",
     "shell.execute_reply.started": "2024-06-14T15:25:16.222080Z"
    }
   },
   "outputs": [
    {
     "data": {
      "text/plain": [
       "-2.4983004554002264e-10"
      ]
     },
     "execution_count": 30,
     "metadata": {},
     "output_type": "execute_result"
    }
   ],
   "source": [
    "sum(data)-1"
   ]
  },
  {
   "cell_type": "markdown",
   "metadata": {},
   "source": [
    "### Example 2"
   ]
  },
  {
   "cell_type": "code",
   "execution_count": 31,
   "metadata": {
    "ExecuteTime": {
     "end_time": "2022-02-28T12:22:51.620610Z",
     "start_time": "2022-02-28T12:22:51.618323Z"
    },
    "execution": {
     "iopub.execute_input": "2024-06-14T15:25:16.586104Z",
     "iopub.status.busy": "2024-06-14T15:25:16.586014Z",
     "iopub.status.idle": "2024-06-14T15:25:16.587619Z",
     "shell.execute_reply": "2024-06-14T15:25:16.587454Z",
     "shell.execute_reply.started": "2024-06-14T15:25:16.586097Z"
    }
   },
   "outputs": [],
   "source": [
    "data2 = np.array([1e15, np.pi, -1e15, -np.pi])"
   ]
  },
  {
   "cell_type": "code",
   "execution_count": 32,
   "metadata": {
    "ExecuteTime": {
     "end_time": "2022-02-28T12:22:58.797902Z",
     "start_time": "2022-02-28T12:22:58.795048Z"
    },
    "execution": {
     "iopub.execute_input": "2024-06-14T15:25:16.587960Z",
     "iopub.status.busy": "2024-06-14T15:25:16.587877Z",
     "iopub.status.idle": "2024-06-14T15:25:16.589626Z",
     "shell.execute_reply": "2024-06-14T15:25:16.589473Z",
     "shell.execute_reply.started": "2024-06-14T15:25:16.587954Z"
    }
   },
   "outputs": [
    {
     "data": {
      "text/plain": [
       "-0.016592653589793116"
      ]
     },
     "execution_count": 32,
     "metadata": {},
     "output_type": "execute_result"
    }
   ],
   "source": [
    "simplesum(data2)"
   ]
  },
  {
   "cell_type": "code",
   "execution_count": 33,
   "metadata": {
    "ExecuteTime": {
     "end_time": "2022-02-28T12:23:21.707750Z",
     "start_time": "2022-02-28T12:23:21.704201Z"
    },
    "execution": {
     "iopub.execute_input": "2024-06-14T15:25:16.589948Z",
     "iopub.status.busy": "2024-06-14T15:25:16.589872Z",
     "iopub.status.idle": "2024-06-14T15:25:16.591622Z",
     "shell.execute_reply": "2024-06-14T15:25:16.591435Z",
     "shell.execute_reply.started": "2024-06-14T15:25:16.589942Z"
    }
   },
   "outputs": [
    {
     "data": {
      "text/plain": [
       "-0.016592653589793116"
      ]
     },
     "execution_count": 33,
     "metadata": {},
     "output_type": "execute_result"
    }
   ],
   "source": [
    "kahansum(data2)"
   ]
  },
  {
   "cell_type": "code",
   "execution_count": 34,
   "metadata": {
    "execution": {
     "iopub.execute_input": "2024-06-14T15:25:16.591971Z",
     "iopub.status.busy": "2024-06-14T15:25:16.591892Z",
     "iopub.status.idle": "2024-06-14T15:25:16.593745Z",
     "shell.execute_reply": "2024-06-14T15:25:16.593593Z",
     "shell.execute_reply.started": "2024-06-14T15:25:16.591965Z"
    }
   },
   "outputs": [
    {
     "data": {
      "text/plain": [
       "-0.016592653589793116"
      ]
     },
     "execution_count": 34,
     "metadata": {},
     "output_type": "execute_result"
    }
   ],
   "source": [
    "np.sum(data2)"
   ]
  },
  {
   "cell_type": "code",
   "execution_count": 35,
   "metadata": {
    "execution": {
     "iopub.execute_input": "2024-06-14T15:25:16.594084Z",
     "iopub.status.busy": "2024-06-14T15:25:16.594008Z",
     "iopub.status.idle": "2024-06-14T15:25:16.595730Z",
     "shell.execute_reply": "2024-06-14T15:25:16.595577Z",
     "shell.execute_reply.started": "2024-06-14T15:25:16.594077Z"
    }
   },
   "outputs": [
    {
     "data": {
      "text/plain": [
       "0.0"
      ]
     },
     "execution_count": 35,
     "metadata": {},
     "output_type": "execute_result"
    }
   ],
   "source": [
    "fsum(data2)"
   ]
  },
  {
   "cell_type": "code",
   "execution_count": 36,
   "metadata": {
    "ExecuteTime": {
     "end_time": "2022-02-28T12:23:29.614137Z",
     "start_time": "2022-02-28T12:23:29.611312Z"
    },
    "execution": {
     "iopub.execute_input": "2024-06-14T15:25:16.596070Z",
     "iopub.status.busy": "2024-06-14T15:25:16.595989Z",
     "iopub.status.idle": "2024-06-14T15:25:16.597777Z",
     "shell.execute_reply": "2024-06-14T15:25:16.597598Z",
     "shell.execute_reply.started": "2024-06-14T15:25:16.596064Z"
    }
   },
   "outputs": [],
   "source": [
    "# Neumaierova sumace https://en.wikipedia.org/wiki/Kahan_summation_algorithm#Further_enhancements\n",
    "def nmsum(input):\n",
    "    summ = 0.0\n",
    "    c = 0.0                 # A running compensation for lost low-order bits.\n",
    "    for num in input:\n",
    "        t = summ + num\n",
    "        if abs(summ) >= abs(num):\n",
    "            c += (summ - t) + num # If sum is bigger, low-order digits of input[i] are lost.\n",
    "        else:\n",
    "            c += (num - t) + summ # Else low-order digits of sum are lost\n",
    "        summ = t\n",
    "    return summ + c               # Correction only applied once in the very end"
   ]
  },
  {
   "cell_type": "code",
   "execution_count": 37,
   "metadata": {
    "ExecuteTime": {
     "end_time": "2022-02-28T12:23:31.054731Z",
     "start_time": "2022-02-28T12:23:31.051814Z"
    },
    "execution": {
     "iopub.execute_input": "2024-06-14T15:25:16.598111Z",
     "iopub.status.busy": "2024-06-14T15:25:16.598036Z",
     "iopub.status.idle": "2024-06-14T15:25:16.600798Z",
     "shell.execute_reply": "2024-06-14T15:25:16.600611Z",
     "shell.execute_reply.started": "2024-06-14T15:25:16.598105Z"
    }
   },
   "outputs": [
    {
     "data": {
      "text/plain": [
       "0.0"
      ]
     },
     "execution_count": 37,
     "metadata": {},
     "output_type": "execute_result"
    }
   ],
   "source": [
    "nmsum(data2)"
   ]
  }
 ],
 "metadata": {
  "kernelspec": {
   "display_name": "Python 3 (ipykernel)",
   "language": "python",
   "name": "python3"
  },
  "language_info": {
   "codemirror_mode": {
    "name": "ipython",
    "version": 3
   },
   "file_extension": ".py",
   "mimetype": "text/x-python",
   "name": "python",
   "nbconvert_exporter": "python",
   "pygments_lexer": "ipython3",
   "version": "3.12.3"
  }
 },
 "nbformat": 4,
 "nbformat_minor": 4
}
